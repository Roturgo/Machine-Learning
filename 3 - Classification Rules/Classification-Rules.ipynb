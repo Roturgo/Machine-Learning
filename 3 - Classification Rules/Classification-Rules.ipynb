{
 "cells": [
  {
   "cell_type": "markdown",
   "id": "8f901177-3bdb-418a-acec-2384ee7f92c7",
   "metadata": {},
   "source": [
    "## Classification Rules\n",
    "\n",
    "**Environment Details**: \n",
    "- **OS**: OpenSUSE Tumbleweed (x86_64)\n",
    "- **Python version**: 3.11.6\n",
    "- **Jupyter-Lab version**: 4.0.9\n",
    "***"
   ]
  },
  {
   "cell_type": "markdown",
   "id": "6c806e7c-0c18-477f-a48b-70ad39b44840",
   "metadata": {},
   "source": [
    "### Goal\n",
    "Your goal is to classify whether a car is acceptable or not for resale. \n",
    "\n",
    "The target feature in the dataset is **acceptability**.\n",
    "\n",
    "Use the remaining nominal features to make your classification using the classification rules discussed in lecture.\n",
    "***"
   ]
  },
  {
   "cell_type": "markdown",
   "id": "0fdbc41e-925a-4dbb-a01c-55b4634537e1",
   "metadata": {},
   "source": [
    "### Pre-task setup"
   ]
  },
  {
   "cell_type": "code",
   "execution_count": 1,
   "id": "0f20635f-9bf5-47d8-9abc-d4d6caa02ee2",
   "metadata": {},
   "outputs": [],
   "source": [
    "# Imports\n",
    "import string\n",
    "import numpy as np\n",
    "import pandas as pd\n",
    "import seaborn as sns\n",
    "import matplotlib.pyplot as plt\n",
    "%matplotlib inline\n",
    "\n",
    "# Scikit-Learn imports\n",
    "from sklearn.model_selection import train_test_split\n",
    "from sklearn import metrics\n",
    "\n",
    "# Ripper algorithm implementation\n",
    "import wittgenstein as lw\n",
    "\n",
    "# Scipy Chi-Squared Test\n",
    "from scipy.stats import chi2_contingency\n",
    "\n",
    "# Nicer Jupyter output formatting\n",
    "import ipywidgets as widgets\n",
    "\n",
    "# Quiet filter warnings\n",
    "import warnings\n",
    "warnings.filterwarnings('ignore')"
   ]
  },
  {
   "cell_type": "markdown",
   "id": "8be621b4-13df-40a2-9094-13acead182b3",
   "metadata": {},
   "source": [
    "***"
   ]
  },
  {
   "cell_type": "markdown",
   "id": "20efe740-e6b5-488f-8ff8-e8c0324078b9",
   "metadata": {},
   "source": [
    "### 0) DataFrame Creation"
   ]
  },
  {
   "cell_type": "code",
   "execution_count": 2,
   "id": "d3a943d7-5b31-4557-bfda-08e308466758",
   "metadata": {},
   "outputs": [],
   "source": [
    "# Load our CSV data into a Pandas DataFrame\n",
    "df = pd.read_csv('car.csv')"
   ]
  },
  {
   "cell_type": "code",
   "execution_count": 3,
   "id": "2c5ad7ad-0af3-42b7-afd2-4d5f52ffb8c7",
   "metadata": {},
   "outputs": [
    {
     "data": {
      "text/html": [
       "<div>\n",
       "<style scoped>\n",
       "    .dataframe tbody tr th:only-of-type {\n",
       "        vertical-align: middle;\n",
       "    }\n",
       "\n",
       "    .dataframe tbody tr th {\n",
       "        vertical-align: top;\n",
       "    }\n",
       "\n",
       "    .dataframe thead th {\n",
       "        text-align: right;\n",
       "    }\n",
       "</style>\n",
       "<table border=\"1\" class=\"dataframe\">\n",
       "  <thead>\n",
       "    <tr style=\"text-align: right;\">\n",
       "      <th></th>\n",
       "      <th>buying</th>\n",
       "      <th>maint</th>\n",
       "      <th>doors</th>\n",
       "      <th>persons</th>\n",
       "      <th>lug_boot</th>\n",
       "      <th>safety</th>\n",
       "      <th>acceptability</th>\n",
       "    </tr>\n",
       "  </thead>\n",
       "  <tbody>\n",
       "    <tr>\n",
       "      <th>0</th>\n",
       "      <td>vhigh</td>\n",
       "      <td>vhigh</td>\n",
       "      <td>2</td>\n",
       "      <td>2</td>\n",
       "      <td>small</td>\n",
       "      <td>low</td>\n",
       "      <td>unacc</td>\n",
       "    </tr>\n",
       "    <tr>\n",
       "      <th>1</th>\n",
       "      <td>vhigh</td>\n",
       "      <td>vhigh</td>\n",
       "      <td>2</td>\n",
       "      <td>2</td>\n",
       "      <td>small</td>\n",
       "      <td>med</td>\n",
       "      <td>unacc</td>\n",
       "    </tr>\n",
       "    <tr>\n",
       "      <th>2</th>\n",
       "      <td>vhigh</td>\n",
       "      <td>vhigh</td>\n",
       "      <td>2</td>\n",
       "      <td>2</td>\n",
       "      <td>small</td>\n",
       "      <td>high</td>\n",
       "      <td>unacc</td>\n",
       "    </tr>\n",
       "    <tr>\n",
       "      <th>3</th>\n",
       "      <td>vhigh</td>\n",
       "      <td>vhigh</td>\n",
       "      <td>2</td>\n",
       "      <td>2</td>\n",
       "      <td>med</td>\n",
       "      <td>low</td>\n",
       "      <td>unacc</td>\n",
       "    </tr>\n",
       "    <tr>\n",
       "      <th>4</th>\n",
       "      <td>vhigh</td>\n",
       "      <td>vhigh</td>\n",
       "      <td>2</td>\n",
       "      <td>2</td>\n",
       "      <td>med</td>\n",
       "      <td>med</td>\n",
       "      <td>unacc</td>\n",
       "    </tr>\n",
       "  </tbody>\n",
       "</table>\n",
       "</div>"
      ],
      "text/plain": [
       "  buying  maint doors persons lug_boot safety acceptability\n",
       "0  vhigh  vhigh     2       2    small    low         unacc\n",
       "1  vhigh  vhigh     2       2    small    med         unacc\n",
       "2  vhigh  vhigh     2       2    small   high         unacc\n",
       "3  vhigh  vhigh     2       2      med    low         unacc\n",
       "4  vhigh  vhigh     2       2      med    med         unacc"
      ]
     },
     "execution_count": 3,
     "metadata": {},
     "output_type": "execute_result"
    }
   ],
   "source": [
    "# Ensure our data loaded correctly\n",
    "df.head()"
   ]
  },
  {
   "cell_type": "markdown",
   "id": "4a63b77a-c9be-4909-9524-cb2cacb592d2",
   "metadata": {},
   "source": [
    "### 1) Data Preprocessing\n",
    "\n",
    "**Instructions**: After Loading in the Dataset. Do any preprocessing steps needed. The point is that I want to see what your thought process and approach is; this is what I'm grading on more than total correctness of code and procedure.\n",
    "\n",
    "(a) Since the Ripper algorithm only works with binary classification, modify the acceptability feature such that 'good' and 'vgood' are changed to 'acc'.\n",
    "\n",
    "(b) Remove any features that would not be beneficial to the model. Justify why you're removing them.\n",
    "\n",
    "(c) Handle missing values properly. Just getting rid of good data is not an acceptable practice.\n",
    "\n",
    "Remember, if no features need to be removed and there are no missing values, then you don't need to do anything, but be sure to mention that in your work."
   ]
  },
  {
   "cell_type": "markdown",
   "id": "78364772-2f2f-4c71-a89b-628733f7e9ab",
   "metadata": {},
   "source": [
    "#### 1.1) Modify the acceptability feature"
   ]
  },
  {
   "cell_type": "code",
   "execution_count": 4,
   "id": "ecaef6c2-07b0-464f-b36f-f0f4e8bafffb",
   "metadata": {},
   "outputs": [
    {
     "data": {
      "text/plain": [
       "acceptability\n",
       "unacc    1210\n",
       "acc       384\n",
       "good       69\n",
       "vgood      65\n",
       "Name: count, dtype: int64"
      ]
     },
     "execution_count": 4,
     "metadata": {},
     "output_type": "execute_result"
    }
   ],
   "source": [
    "# (a) Since the Ripper algorithm only works with binary classification, modify the acceptability feature such that 'good' and 'vgood' are changed to 'acc'.\n",
    "\n",
    "# Look at our acceptability value counts before modifying them\n",
    "df['acceptability'].value_counts()"
   ]
  },
  {
   "cell_type": "code",
   "execution_count": 5,
   "id": "4b7c4530-0af8-4c88-8aad-92fe5ebd59eb",
   "metadata": {},
   "outputs": [],
   "source": [
    "# Map statuses to 'acc'\n",
    "status_map = {'good': 'acc',\n",
    "              'vgood': 'acc'}\n",
    "\n",
    "# Apply mapping on acceptability feature\n",
    "df['acceptability'].replace(status_map, inplace=True)"
   ]
  },
  {
   "cell_type": "code",
   "execution_count": 6,
   "id": "cdd54b0e-b81c-4c19-a139-f7d888134408",
   "metadata": {},
   "outputs": [
    {
     "data": {
      "text/plain": [
       "acceptability\n",
       "unacc    1210\n",
       "acc       518\n",
       "Name: count, dtype: int64"
      ]
     },
     "execution_count": 6,
     "metadata": {},
     "output_type": "execute_result"
    }
   ],
   "source": [
    "# Make sure our mapping worked correctly\n",
    "df['acceptability'].value_counts()"
   ]
  },
  {
   "cell_type": "markdown",
   "id": "024bdc37-9327-4aae-8cfd-a47ceaa9441f",
   "metadata": {},
   "source": [
    "#### 1.2) Remove features"
   ]
  },
  {
   "cell_type": "code",
   "execution_count": 7,
   "id": "366e0d24-e464-4373-a42b-ef883262c1d7",
   "metadata": {},
   "outputs": [
    {
     "data": {
      "text/html": [
       "<div>\n",
       "<style scoped>\n",
       "    .dataframe tbody tr th:only-of-type {\n",
       "        vertical-align: middle;\n",
       "    }\n",
       "\n",
       "    .dataframe tbody tr th {\n",
       "        vertical-align: top;\n",
       "    }\n",
       "\n",
       "    .dataframe thead th {\n",
       "        text-align: right;\n",
       "    }\n",
       "</style>\n",
       "<table border=\"1\" class=\"dataframe\">\n",
       "  <thead>\n",
       "    <tr style=\"text-align: right;\">\n",
       "      <th></th>\n",
       "      <th>buying</th>\n",
       "      <th>maint</th>\n",
       "      <th>doors</th>\n",
       "      <th>persons</th>\n",
       "      <th>lug_boot</th>\n",
       "      <th>safety</th>\n",
       "      <th>acceptability</th>\n",
       "    </tr>\n",
       "  </thead>\n",
       "  <tbody>\n",
       "    <tr>\n",
       "      <th>count</th>\n",
       "      <td>1728</td>\n",
       "      <td>1728</td>\n",
       "      <td>1728</td>\n",
       "      <td>1728</td>\n",
       "      <td>1728</td>\n",
       "      <td>1728</td>\n",
       "      <td>1728</td>\n",
       "    </tr>\n",
       "    <tr>\n",
       "      <th>unique</th>\n",
       "      <td>4</td>\n",
       "      <td>4</td>\n",
       "      <td>4</td>\n",
       "      <td>3</td>\n",
       "      <td>3</td>\n",
       "      <td>3</td>\n",
       "      <td>2</td>\n",
       "    </tr>\n",
       "    <tr>\n",
       "      <th>top</th>\n",
       "      <td>vhigh</td>\n",
       "      <td>vhigh</td>\n",
       "      <td>2</td>\n",
       "      <td>2</td>\n",
       "      <td>small</td>\n",
       "      <td>low</td>\n",
       "      <td>unacc</td>\n",
       "    </tr>\n",
       "    <tr>\n",
       "      <th>freq</th>\n",
       "      <td>432</td>\n",
       "      <td>432</td>\n",
       "      <td>432</td>\n",
       "      <td>576</td>\n",
       "      <td>576</td>\n",
       "      <td>576</td>\n",
       "      <td>1210</td>\n",
       "    </tr>\n",
       "  </tbody>\n",
       "</table>\n",
       "</div>"
      ],
      "text/plain": [
       "       buying  maint doors persons lug_boot safety acceptability\n",
       "count    1728   1728  1728    1728     1728   1728          1728\n",
       "unique      4      4     4       3        3      3             2\n",
       "top     vhigh  vhigh     2       2    small    low         unacc\n",
       "freq      432    432   432     576      576    576          1210"
      ]
     },
     "execution_count": 7,
     "metadata": {},
     "output_type": "execute_result"
    }
   ],
   "source": [
    "# (b) Remove any features that would not be beneficial to the model. Justify why you're removing them.\n",
    "\n",
    "# Let's take a look at some descriptive statistics to see if any feature stands out for removing\n",
    "df.describe()"
   ]
  },
  {
   "cell_type": "markdown",
   "id": "1c879aef-9b69-47ae-8531-e8957884616b",
   "metadata": {},
   "source": [
    "#### 1.3) Look for missing values"
   ]
  },
  {
   "cell_type": "code",
   "execution_count": 8,
   "id": "4aa5fdea-4cf4-47a6-a4c3-b9f52414701c",
   "metadata": {},
   "outputs": [
    {
     "name": "stdout",
     "output_type": "stream",
     "text": [
      "<class 'pandas.core.frame.DataFrame'>\n",
      "RangeIndex: 1728 entries, 0 to 1727\n",
      "Data columns (total 7 columns):\n",
      " #   Column         Non-Null Count  Dtype \n",
      "---  ------         --------------  ----- \n",
      " 0   buying         1728 non-null   object\n",
      " 1   maint          1728 non-null   object\n",
      " 2   doors          1728 non-null   object\n",
      " 3   persons        1728 non-null   object\n",
      " 4   lug_boot       1728 non-null   object\n",
      " 5   safety         1728 non-null   object\n",
      " 6   acceptability  1728 non-null   object\n",
      "dtypes: object(7)\n",
      "memory usage: 94.6+ KB\n"
     ]
    }
   ],
   "source": [
    "# (c) Handle missing values properly. Just getting rid of good data is not an acceptable practice.\n",
    "\n",
    "# Look at information about our dataset, specifically if we have missing values that need to be handled\n",
    "df.info()"
   ]
  },
  {
   "cell_type": "code",
   "execution_count": 9,
   "id": "47c5507b-57bf-4b6a-a4bd-a913bc860abe",
   "metadata": {},
   "outputs": [
    {
     "data": {
      "text/plain": [
       "[]"
      ]
     },
     "execution_count": 9,
     "metadata": {},
     "output_type": "execute_result"
    }
   ],
   "source": [
    "# Display the features that have Null/NaN values\n",
    "df.columns[df.isna().any()].tolist()"
   ]
  },
  {
   "cell_type": "code",
   "execution_count": 10,
   "id": "cb570e65-729f-44f8-b390-087dbefe0ce2",
   "metadata": {},
   "outputs": [
    {
     "name": "stdout",
     "output_type": "stream",
     "text": [
      "buying           0\n",
      "maint            0\n",
      "doors            0\n",
      "persons          0\n",
      "lug_boot         0\n",
      "safety           0\n",
      "acceptability    0\n",
      "dtype: int64\n"
     ]
    }
   ],
   "source": [
    "# Double-check our output above by printing how many values are Null/NaN\n",
    "print(df.isna().sum())"
   ]
  },
  {
   "cell_type": "markdown",
   "id": "2ca6cd46-2618-4afd-9e34-c733c47a33c5",
   "metadata": {},
   "source": [
    "**Analysis**:\n",
    "\n",
    "Based on the output above, there don't appear to be any missing values. Nothing further is needed for this preprocessing step."
   ]
  },
  {
   "cell_type": "markdown",
   "id": "d8d9abd5-b7de-4857-a9a4-d4c1434b618a",
   "metadata": {},
   "source": [
    "### 2) Descriptive Statistics\n",
    "\n",
    "**Instructions**: Give the descriptive statistics for the different variables. Frequency counts for each unique value in each feature works fine for categorical variables."
   ]
  },
  {
   "cell_type": "code",
   "execution_count": 11,
   "id": "4fb8133f-3a63-4b5d-85ed-d1b109efa3fc",
   "metadata": {},
   "outputs": [
    {
     "data": {
      "text/html": [
       "<div>\n",
       "<style scoped>\n",
       "    .dataframe tbody tr th:only-of-type {\n",
       "        vertical-align: middle;\n",
       "    }\n",
       "\n",
       "    .dataframe tbody tr th {\n",
       "        vertical-align: top;\n",
       "    }\n",
       "\n",
       "    .dataframe thead th {\n",
       "        text-align: right;\n",
       "    }\n",
       "</style>\n",
       "<table border=\"1\" class=\"dataframe\">\n",
       "  <thead>\n",
       "    <tr style=\"text-align: right;\">\n",
       "      <th></th>\n",
       "      <th>buying</th>\n",
       "      <th>maint</th>\n",
       "      <th>doors</th>\n",
       "      <th>persons</th>\n",
       "      <th>lug_boot</th>\n",
       "      <th>safety</th>\n",
       "      <th>acceptability</th>\n",
       "    </tr>\n",
       "  </thead>\n",
       "  <tbody>\n",
       "    <tr>\n",
       "      <th>count</th>\n",
       "      <td>1728</td>\n",
       "      <td>1728</td>\n",
       "      <td>1728</td>\n",
       "      <td>1728</td>\n",
       "      <td>1728</td>\n",
       "      <td>1728</td>\n",
       "      <td>1728</td>\n",
       "    </tr>\n",
       "    <tr>\n",
       "      <th>unique</th>\n",
       "      <td>4</td>\n",
       "      <td>4</td>\n",
       "      <td>4</td>\n",
       "      <td>3</td>\n",
       "      <td>3</td>\n",
       "      <td>3</td>\n",
       "      <td>2</td>\n",
       "    </tr>\n",
       "    <tr>\n",
       "      <th>top</th>\n",
       "      <td>vhigh</td>\n",
       "      <td>vhigh</td>\n",
       "      <td>2</td>\n",
       "      <td>2</td>\n",
       "      <td>small</td>\n",
       "      <td>low</td>\n",
       "      <td>unacc</td>\n",
       "    </tr>\n",
       "    <tr>\n",
       "      <th>freq</th>\n",
       "      <td>432</td>\n",
       "      <td>432</td>\n",
       "      <td>432</td>\n",
       "      <td>576</td>\n",
       "      <td>576</td>\n",
       "      <td>576</td>\n",
       "      <td>1210</td>\n",
       "    </tr>\n",
       "  </tbody>\n",
       "</table>\n",
       "</div>"
      ],
      "text/plain": [
       "       buying  maint doors persons lug_boot safety acceptability\n",
       "count    1728   1728  1728    1728     1728   1728          1728\n",
       "unique      4      4     4       3        3      3             2\n",
       "top     vhigh  vhigh     2       2    small    low         unacc\n",
       "freq      432    432   432     576      576    576          1210"
      ]
     },
     "execution_count": 11,
     "metadata": {},
     "output_type": "execute_result"
    }
   ],
   "source": [
    "# Look at summary statistics of our numeric dataset\n",
    "df.describe()"
   ]
  },
  {
   "cell_type": "code",
   "execution_count": 12,
   "id": "b209977a-6bd6-4bd9-9193-48a58ec2d05a",
   "metadata": {},
   "outputs": [
    {
     "data": {
      "text/plain": [
       "buying\n",
       "high     432\n",
       "low      432\n",
       "med      432\n",
       "vhigh    432\n",
       "Name: count, dtype: int64"
      ]
     },
     "execution_count": 12,
     "metadata": {},
     "output_type": "execute_result"
    }
   ],
   "source": [
    "# Look at frequency counts for buying\n",
    "df.value_counts(\"buying\")"
   ]
  },
  {
   "cell_type": "code",
   "execution_count": 13,
   "id": "33c41086-2ef3-4946-9d9c-9b0ccdb3dd33",
   "metadata": {},
   "outputs": [
    {
     "data": {
      "text/plain": [
       "maint\n",
       "high     432\n",
       "low      432\n",
       "med      432\n",
       "vhigh    432\n",
       "Name: count, dtype: int64"
      ]
     },
     "execution_count": 13,
     "metadata": {},
     "output_type": "execute_result"
    }
   ],
   "source": [
    "# Look at frequency counts for maint\n",
    "df.value_counts(\"maint\")"
   ]
  },
  {
   "cell_type": "code",
   "execution_count": 14,
   "id": "6f988ce4-3ee1-4d1f-9537-6fe9c9ab5961",
   "metadata": {},
   "outputs": [
    {
     "data": {
      "text/plain": [
       "doors\n",
       "2        432\n",
       "3        432\n",
       "4        432\n",
       "5more    432\n",
       "Name: count, dtype: int64"
      ]
     },
     "execution_count": 14,
     "metadata": {},
     "output_type": "execute_result"
    }
   ],
   "source": [
    "# Look at frequency counts for doors\n",
    "df.value_counts(\"doors\")"
   ]
  },
  {
   "cell_type": "code",
   "execution_count": 15,
   "id": "e048270e-31b6-4e91-acef-f9579f08ec20",
   "metadata": {},
   "outputs": [
    {
     "data": {
      "text/plain": [
       "persons\n",
       "2       576\n",
       "4       576\n",
       "more    576\n",
       "Name: count, dtype: int64"
      ]
     },
     "execution_count": 15,
     "metadata": {},
     "output_type": "execute_result"
    }
   ],
   "source": [
    "# Look at frequency counts for persons\n",
    "df.value_counts(\"persons\")"
   ]
  },
  {
   "cell_type": "code",
   "execution_count": 16,
   "id": "3e22e7d5-80e7-42f0-8899-1abd2b1fabe4",
   "metadata": {},
   "outputs": [
    {
     "data": {
      "text/plain": [
       "lug_boot\n",
       "big      576\n",
       "med      576\n",
       "small    576\n",
       "Name: count, dtype: int64"
      ]
     },
     "execution_count": 16,
     "metadata": {},
     "output_type": "execute_result"
    }
   ],
   "source": [
    "# Look at frequency counts for lug_boot\n",
    "df.value_counts(\"lug_boot\")"
   ]
  },
  {
   "cell_type": "code",
   "execution_count": 17,
   "id": "6764e4c5-9cb0-466d-ad98-7d60b9b6e5a2",
   "metadata": {},
   "outputs": [
    {
     "data": {
      "text/plain": [
       "safety\n",
       "high    576\n",
       "low     576\n",
       "med     576\n",
       "Name: count, dtype: int64"
      ]
     },
     "execution_count": 17,
     "metadata": {},
     "output_type": "execute_result"
    }
   ],
   "source": [
    "# Look at frequency counts for safety\n",
    "df.value_counts(\"safety\")"
   ]
  },
  {
   "cell_type": "code",
   "execution_count": 18,
   "id": "bb849514-2f7c-405d-b0c4-6a2634e32685",
   "metadata": {},
   "outputs": [
    {
     "data": {
      "text/plain": [
       "acceptability\n",
       "unacc    1210\n",
       "acc       518\n",
       "Name: count, dtype: int64"
      ]
     },
     "execution_count": 18,
     "metadata": {},
     "output_type": "execute_result"
    }
   ],
   "source": [
    "# Look at frequency counts for acceptability\n",
    "df.value_counts(\"acceptability\")"
   ]
  },
  {
   "cell_type": "markdown",
   "id": "0db7b578-dd7c-4bbc-af09-3e83a2c73d8c",
   "metadata": {},
   "source": [
    "**Analysis**\n",
    "\n",
    "Apart from our target, all of the features are evenly distributed (exactly even spread in each feature's categories)."
   ]
  },
  {
   "cell_type": "markdown",
   "id": "a9f129c4-dfb5-43b5-8899-a6d9878016cc",
   "metadata": {},
   "source": [
    "### 3) Data Visualization\n",
    "\n",
    "**Instructions**: Visualize the data appropriately, bar plots work best with categorical data. You can create multiple separate plots or one big plot, but if you make one big plot, make sure all the subplots are visible and clear."
   ]
  },
  {
   "cell_type": "code",
   "execution_count": 19,
   "id": "82fa636f-1b59-44c4-898b-110938a183e3",
   "metadata": {},
   "outputs": [
    {
     "data": {
      "image/png": "[encoded data removed]",
      "text/plain": [
       "<Figure size 1000x500 with 1 Axes>"
      ]
     },
     "metadata": {},
     "output_type": "display_data"
    }
   ],
   "source": [
    "# Get the counts for buying\n",
    "feature_count = df['buying'].value_counts()\n",
    "\n",
    "# Plot the counts as a bar chart\n",
    "plt.figure(figsize=(10, 5))\n",
    "sns.barplot(x=feature_count.values, y=feature_count.index, palette='bright')\n",
    "plt.xlabel('Count')\n",
    "plt.ylabel('buying values')\n",
    "plt.title('buying distribution breakouts')\n",
    "plt.show()"
   ]
  },
  {
   "cell_type": "code",
   "execution_count": 20,
   "id": "2ea40d18-9750-4432-96e4-a3db766db14f",
   "metadata": {},
   "outputs": [
    {
     "data": {
      "image/png": "[encoded data removed]",
      "text/plain": [
       "<Figure size 1000x500 with 1 Axes>"
      ]
     },
     "metadata": {},
     "output_type": "display_data"
    }
   ],
   "source": [
    "# Get the counts for maint\n",
    "feature_count = df['maint'].value_counts()\n",
    "\n",
    "# Plot the counts as a bar chart\n",
    "plt.figure(figsize=(10, 5))\n",
    "sns.barplot(x=feature_count.values, y=feature_count.index, palette='bright')\n",
    "plt.xlabel('Count')\n",
    "plt.ylabel('maint values')\n",
    "plt.title('maint distribution breakouts')\n",
    "plt.show()"
   ]
  },
  {
   "cell_type": "code",
   "execution_count": 21,
   "id": "56e9e6e5-e533-4ecb-bd7e-9ac9bfbf1c34",
   "metadata": {},
   "outputs": [
    {
     "data": {
      "image/png": "[encoded data removed]",
      "text/plain": [
       "<Figure size 1000x500 with 1 Axes>"
      ]
     },
     "metadata": {},
     "output_type": "display_data"
    }
   ],
   "source": [
    "# Get the counts for doors\n",
    "feature_count = df['doors'].value_counts()\n",
    "\n",
    "# Plot the counts as a bar chart\n",
    "plt.figure(figsize=(10, 5))\n",
    "sns.barplot(x=feature_count.values, y=feature_count.index, palette='bright')\n",
    "plt.xlabel('Count')\n",
    "plt.ylabel('door values')\n",
    "plt.title('doors distribution breakouts')\n",
    "plt.show()"
   ]
  },
  {
   "cell_type": "code",
   "execution_count": 22,
   "id": "463d9da1-02f8-45e6-9370-fedfdc7c4c5e",
   "metadata": {},
   "outputs": [
    {
     "data": {
      "image/png": "[encoded data removed]",
      "text/plain": [
       "<Figure size 1000x500 with 1 Axes>"
      ]
     },
     "metadata": {},
     "output_type": "display_data"
    }
   ],
   "source": [
    "# Get the counts for persons\n",
    "feature_count = df['persons'].value_counts()\n",
    "\n",
    "# Plot the counts as a bar chart\n",
    "plt.figure(figsize=(10, 5))\n",
    "sns.barplot(x=feature_count.values, y=feature_count.index, palette='bright')\n",
    "plt.xlabel('Count')\n",
    "plt.ylabel('persons values')\n",
    "plt.title('persons distribution breakouts')\n",
    "plt.show()"
   ]
  },
  {
   "cell_type": "code",
   "execution_count": 23,
   "id": "af802a7c-53df-4adb-ad39-54ade51902eb",
   "metadata": {},
   "outputs": [
    {
     "data": {
      "image/png": "[encoded data removed]",
      "text/plain": [
       "<Figure size 1000x500 with 1 Axes>"
      ]
     },
     "metadata": {},
     "output_type": "display_data"
    }
   ],
   "source": [
    "# Get the counts for lug_boot\n",
    "feature_count = df['lug_boot'].value_counts()\n",
    "\n",
    "# Plot the counts as a bar chart\n",
    "plt.figure(figsize=(10, 5))\n",
    "sns.barplot(x=feature_count.values, y=feature_count.index, palette='bright')\n",
    "plt.xlabel('Count')\n",
    "plt.ylabel('lug_boot values')\n",
    "plt.title('lug_boot distribution breakouts')\n",
    "plt.show()"
   ]
  },
  {
   "cell_type": "code",
   "execution_count": 24,
   "id": "3cef4b94-ffd8-4364-8930-d4782da7304c",
   "metadata": {},
   "outputs": [
    {
     "data": {
      "image/png": "[encoded data removed]",
      "text/plain": [
       "<Figure size 1000x500 with 1 Axes>"
      ]
     },
     "metadata": {},
     "output_type": "display_data"
    }
   ],
   "source": [
    "# Get the counts for safety\n",
    "feature_count = df['safety'].value_counts()\n",
    "\n",
    "# Plot the counts as a bar chart\n",
    "plt.figure(figsize=(10, 5))\n",
    "sns.barplot(x=feature_count.values, y=feature_count.index, palette='bright')\n",
    "plt.xlabel('Count')\n",
    "plt.ylabel('safety values')\n",
    "plt.title('safety distribution breakouts')\n",
    "plt.show()"
   ]
  },
  {
   "cell_type": "code",
   "execution_count": 25,
   "id": "4bb9ce02-5198-46cd-a093-979567c0b978",
   "metadata": {},
   "outputs": [
    {
     "data": {
      "image/png": "[encoded data removed]",
      "text/plain": [
       "<Figure size 1000x500 with 1 Axes>"
      ]
     },
     "metadata": {},
     "output_type": "display_data"
    }
   ],
   "source": [
    "# Get the counts for acceptability\n",
    "feature_count = df['acceptability'].value_counts()\n",
    "\n",
    "# Plot the counts as a bar chart\n",
    "plt.figure(figsize=(10, 5))\n",
    "sns.barplot(x=feature_count.values, y=feature_count.index, palette='bright')\n",
    "plt.xlabel('Count')\n",
    "plt.ylabel('acceptability values')\n",
    "plt.title('acceptability distribution breakouts')\n",
    "plt.show()"
   ]
  },
  {
   "cell_type": "markdown",
   "id": "44743df0-54f6-4738-bc59-37b6a878c7d2",
   "metadata": {},
   "source": [
    "**Analysis**:\n",
    "\n",
    "Confirming what we saw in the previous step with descriptive statistics, every single feature except for our 'acceptability' target has an equal split.\n",
    "\n",
    "I had to double-check the original data set to make sure I didn't accidentally goof something up in the previous data preprocessing phase, but validated that this is correct for the data set we were given."
   ]
  },
  {
   "cell_type": "markdown",
   "id": "f2333ebb-b2db-4ab5-b046-33b54a7749f9",
   "metadata": {},
   "source": [
    "### 4) Chi-Squared Test & Analysis\n",
    "\n",
    "**Instructions**: For categorical data, correlation isn't a great metric for the relationship between variables. Instead, we like to use the Chi-Squared test from traditional statistics. Read up on it here and use the code from lecture to compute a Chi-Squared matrix between all the features. Discuss any interesting observations. Look for the p-values; I'm generalizing, but small values where p-value < 0.05 generally is telling us that there is a correlation between two categorical variables"
   ]
  },
  {
   "cell_type": "markdown",
   "id": "ef08e265-0f53-487f-9ae2-39a0a0f81e35",
   "metadata": {},
   "source": [
    "* **Null Hypothesis**: The two features are independent of one another\n",
    "* **Alternative Hypothesis**: The two features are **not** independent of one another; there is some relationship between the features"
   ]
  },
  {
   "cell_type": "code",
   "execution_count": 26,
   "id": "314f51d5-bd03-47ed-8027-51dec6e6a565",
   "metadata": {},
   "outputs": [],
   "source": [
    "# Encode our categorical features to be numeric into a new df_factorized dataframe\n",
    "df_factorized = df.apply(lambda x: pd.factorize(x)[0]) + 1"
   ]
  },
  {
   "cell_type": "code",
   "execution_count": 27,
   "id": "be8cd95a-d495-484f-9360-c158e47285bd",
   "metadata": {},
   "outputs": [
    {
     "data": {
      "text/html": [
       "<div>\n",
       "<style scoped>\n",
       "    .dataframe tbody tr th:only-of-type {\n",
       "        vertical-align: middle;\n",
       "    }\n",
       "\n",
       "    .dataframe tbody tr th {\n",
       "        vertical-align: top;\n",
       "    }\n",
       "\n",
       "    .dataframe thead th {\n",
       "        text-align: right;\n",
       "    }\n",
       "</style>\n",
       "<table border=\"1\" class=\"dataframe\">\n",
       "  <thead>\n",
       "    <tr style=\"text-align: right;\">\n",
       "      <th></th>\n",
       "      <th>buying</th>\n",
       "      <th>maint</th>\n",
       "      <th>doors</th>\n",
       "      <th>persons</th>\n",
       "      <th>lug_boot</th>\n",
       "      <th>safety</th>\n",
       "      <th>acceptability</th>\n",
       "    </tr>\n",
       "  </thead>\n",
       "  <tbody>\n",
       "    <tr>\n",
       "      <th>0</th>\n",
       "      <td>1</td>\n",
       "      <td>1</td>\n",
       "      <td>1</td>\n",
       "      <td>1</td>\n",
       "      <td>1</td>\n",
       "      <td>1</td>\n",
       "      <td>1</td>\n",
       "    </tr>\n",
       "    <tr>\n",
       "      <th>1</th>\n",
       "      <td>1</td>\n",
       "      <td>1</td>\n",
       "      <td>1</td>\n",
       "      <td>1</td>\n",
       "      <td>1</td>\n",
       "      <td>2</td>\n",
       "      <td>1</td>\n",
       "    </tr>\n",
       "    <tr>\n",
       "      <th>2</th>\n",
       "      <td>1</td>\n",
       "      <td>1</td>\n",
       "      <td>1</td>\n",
       "      <td>1</td>\n",
       "      <td>1</td>\n",
       "      <td>3</td>\n",
       "      <td>1</td>\n",
       "    </tr>\n",
       "    <tr>\n",
       "      <th>3</th>\n",
       "      <td>1</td>\n",
       "      <td>1</td>\n",
       "      <td>1</td>\n",
       "      <td>1</td>\n",
       "      <td>2</td>\n",
       "      <td>1</td>\n",
       "      <td>1</td>\n",
       "    </tr>\n",
       "    <tr>\n",
       "      <th>4</th>\n",
       "      <td>1</td>\n",
       "      <td>1</td>\n",
       "      <td>1</td>\n",
       "      <td>1</td>\n",
       "      <td>2</td>\n",
       "      <td>2</td>\n",
       "      <td>1</td>\n",
       "    </tr>\n",
       "  </tbody>\n",
       "</table>\n",
       "</div>"
      ],
      "text/plain": [
       "   buying  maint  doors  persons  lug_boot  safety  acceptability\n",
       "0       1      1      1        1         1       1              1\n",
       "1       1      1      1        1         1       2              1\n",
       "2       1      1      1        1         1       3              1\n",
       "3       1      1      1        1         2       1              1\n",
       "4       1      1      1        1         2       2              1"
      ]
     },
     "execution_count": 27,
     "metadata": {},
     "output_type": "execute_result"
    }
   ],
   "source": [
    "# Make sure our encoding worked\n",
    "df_factorized.head()"
   ]
  },
  {
   "cell_type": "code",
   "execution_count": 28,
   "id": "c0ccf2e1-6db4-4378-9ee1-4988c266d036",
   "metadata": {},
   "outputs": [
    {
     "name": "stdout",
     "output_type": "stream",
     "text": [
      "Number of features: 7\n"
     ]
    }
   ],
   "source": [
    "# Get the number of features\n",
    "num_features = df_factorized.shape[1]\n",
    "print(\"Number of features: {}\".format(num_features))\n",
    "\n",
    "# Create our chi-squared matrix\n",
    "chi_sq_mat = pd.DataFrame(index=df_factorized.columns, columns=df_factorized.columns)"
   ]
  },
  {
   "cell_type": "code",
   "execution_count": 29,
   "id": "0ee57eef-6a14-487a-98ca-c4091f35c060",
   "metadata": {},
   "outputs": [
    {
     "data": {
      "text/html": [
       "<div>\n",
       "<style scoped>\n",
       "    .dataframe tbody tr th:only-of-type {\n",
       "        vertical-align: middle;\n",
       "    }\n",
       "\n",
       "    .dataframe tbody tr th {\n",
       "        vertical-align: top;\n",
       "    }\n",
       "\n",
       "    .dataframe thead th {\n",
       "        text-align: right;\n",
       "    }\n",
       "</style>\n",
       "<table border=\"1\" class=\"dataframe\">\n",
       "  <thead>\n",
       "    <tr style=\"text-align: right;\">\n",
       "      <th></th>\n",
       "      <th>buying</th>\n",
       "      <th>maint</th>\n",
       "      <th>doors</th>\n",
       "      <th>persons</th>\n",
       "      <th>lug_boot</th>\n",
       "      <th>safety</th>\n",
       "      <th>acceptability</th>\n",
       "    </tr>\n",
       "  </thead>\n",
       "  <tbody>\n",
       "    <tr>\n",
       "      <th>buying</th>\n",
       "      <td>NaN</td>\n",
       "      <td>NaN</td>\n",
       "      <td>NaN</td>\n",
       "      <td>NaN</td>\n",
       "      <td>NaN</td>\n",
       "      <td>NaN</td>\n",
       "      <td>NaN</td>\n",
       "    </tr>\n",
       "    <tr>\n",
       "      <th>maint</th>\n",
       "      <td>NaN</td>\n",
       "      <td>NaN</td>\n",
       "      <td>NaN</td>\n",
       "      <td>NaN</td>\n",
       "      <td>NaN</td>\n",
       "      <td>NaN</td>\n",
       "      <td>NaN</td>\n",
       "    </tr>\n",
       "    <tr>\n",
       "      <th>doors</th>\n",
       "      <td>NaN</td>\n",
       "      <td>NaN</td>\n",
       "      <td>NaN</td>\n",
       "      <td>NaN</td>\n",
       "      <td>NaN</td>\n",
       "      <td>NaN</td>\n",
       "      <td>NaN</td>\n",
       "    </tr>\n",
       "    <tr>\n",
       "      <th>persons</th>\n",
       "      <td>NaN</td>\n",
       "      <td>NaN</td>\n",
       "      <td>NaN</td>\n",
       "      <td>NaN</td>\n",
       "      <td>NaN</td>\n",
       "      <td>NaN</td>\n",
       "      <td>NaN</td>\n",
       "    </tr>\n",
       "    <tr>\n",
       "      <th>lug_boot</th>\n",
       "      <td>NaN</td>\n",
       "      <td>NaN</td>\n",
       "      <td>NaN</td>\n",
       "      <td>NaN</td>\n",
       "      <td>NaN</td>\n",
       "      <td>NaN</td>\n",
       "      <td>NaN</td>\n",
       "    </tr>\n",
       "    <tr>\n",
       "      <th>safety</th>\n",
       "      <td>NaN</td>\n",
       "      <td>NaN</td>\n",
       "      <td>NaN</td>\n",
       "      <td>NaN</td>\n",
       "      <td>NaN</td>\n",
       "      <td>NaN</td>\n",
       "      <td>NaN</td>\n",
       "    </tr>\n",
       "    <tr>\n",
       "      <th>acceptability</th>\n",
       "      <td>NaN</td>\n",
       "      <td>NaN</td>\n",
       "      <td>NaN</td>\n",
       "      <td>NaN</td>\n",
       "      <td>NaN</td>\n",
       "      <td>NaN</td>\n",
       "      <td>NaN</td>\n",
       "    </tr>\n",
       "  </tbody>\n",
       "</table>\n",
       "</div>"
      ],
      "text/plain": [
       "              buying maint doors persons lug_boot safety acceptability\n",
       "buying           NaN   NaN   NaN     NaN      NaN    NaN           NaN\n",
       "maint            NaN   NaN   NaN     NaN      NaN    NaN           NaN\n",
       "doors            NaN   NaN   NaN     NaN      NaN    NaN           NaN\n",
       "persons          NaN   NaN   NaN     NaN      NaN    NaN           NaN\n",
       "lug_boot         NaN   NaN   NaN     NaN      NaN    NaN           NaN\n",
       "safety           NaN   NaN   NaN     NaN      NaN    NaN           NaN\n",
       "acceptability    NaN   NaN   NaN     NaN      NaN    NaN           NaN"
      ]
     },
     "execution_count": 29,
     "metadata": {},
     "output_type": "execute_result"
    }
   ],
   "source": [
    "# Make sure our chi-squared matrix got created correctly\n",
    "chi_sq_mat"
   ]
  },
  {
   "cell_type": "code",
   "execution_count": 30,
   "id": "2000dd34-916e-4a13-8903-36fc321ea01e",
   "metadata": {},
   "outputs": [],
   "source": [
    "# Populate our chi-squared table\n",
    "for i in range(num_features):\n",
    "    for j in range(num_features):\n",
    "        contingency_table = pd.crosstab(df_factorized.iloc[:,i], df_factorized.iloc[:,j])\n",
    "        # Run our Chi-squared contingency analysis\n",
    "        chi2, pvalue, dof, exp_freq = chi2_contingency(contingency_table)\n",
    "        # Save our p-value in our chi-squared matrix\n",
    "        chi_sq_mat.iloc[i,j] = pvalue"
   ]
  },
  {
   "cell_type": "code",
   "execution_count": 31,
   "id": "b801566b-5ba8-416d-a29a-4cba1c61ce90",
   "metadata": {},
   "outputs": [
    {
     "data": {
      "text/html": [
       "<div>\n",
       "<style scoped>\n",
       "    .dataframe tbody tr th:only-of-type {\n",
       "        vertical-align: middle;\n",
       "    }\n",
       "\n",
       "    .dataframe tbody tr th {\n",
       "        vertical-align: top;\n",
       "    }\n",
       "\n",
       "    .dataframe thead th {\n",
       "        text-align: right;\n",
       "    }\n",
       "</style>\n",
       "<table border=\"1\" class=\"dataframe\">\n",
       "  <thead>\n",
       "    <tr style=\"text-align: right;\">\n",
       "      <th></th>\n",
       "      <th>buying</th>\n",
       "      <th>maint</th>\n",
       "      <th>doors</th>\n",
       "      <th>persons</th>\n",
       "      <th>lug_boot</th>\n",
       "      <th>safety</th>\n",
       "      <th>acceptability</th>\n",
       "    </tr>\n",
       "  </thead>\n",
       "  <tbody>\n",
       "    <tr>\n",
       "      <th>buying</th>\n",
       "      <td>0.0</td>\n",
       "      <td>1.0</td>\n",
       "      <td>1.0</td>\n",
       "      <td>1.0</td>\n",
       "      <td>1.0</td>\n",
       "      <td>1.0</td>\n",
       "      <td>0.0</td>\n",
       "    </tr>\n",
       "    <tr>\n",
       "      <th>maint</th>\n",
       "      <td>1.0</td>\n",
       "      <td>0.0</td>\n",
       "      <td>1.0</td>\n",
       "      <td>1.0</td>\n",
       "      <td>1.0</td>\n",
       "      <td>1.0</td>\n",
       "      <td>0.0</td>\n",
       "    </tr>\n",
       "    <tr>\n",
       "      <th>doors</th>\n",
       "      <td>1.0</td>\n",
       "      <td>1.0</td>\n",
       "      <td>0.0</td>\n",
       "      <td>1.0</td>\n",
       "      <td>1.0</td>\n",
       "      <td>1.0</td>\n",
       "      <td>0.035259</td>\n",
       "    </tr>\n",
       "    <tr>\n",
       "      <th>persons</th>\n",
       "      <td>1.0</td>\n",
       "      <td>1.0</td>\n",
       "      <td>1.0</td>\n",
       "      <td>0.0</td>\n",
       "      <td>1.0</td>\n",
       "      <td>1.0</td>\n",
       "      <td>0.0</td>\n",
       "    </tr>\n",
       "    <tr>\n",
       "      <th>lug_boot</th>\n",
       "      <td>1.0</td>\n",
       "      <td>1.0</td>\n",
       "      <td>1.0</td>\n",
       "      <td>1.0</td>\n",
       "      <td>0.0</td>\n",
       "      <td>1.0</td>\n",
       "      <td>0.0</td>\n",
       "    </tr>\n",
       "    <tr>\n",
       "      <th>safety</th>\n",
       "      <td>1.0</td>\n",
       "      <td>1.0</td>\n",
       "      <td>1.0</td>\n",
       "      <td>1.0</td>\n",
       "      <td>1.0</td>\n",
       "      <td>0.0</td>\n",
       "      <td>0.0</td>\n",
       "    </tr>\n",
       "    <tr>\n",
       "      <th>acceptability</th>\n",
       "      <td>0.0</td>\n",
       "      <td>0.0</td>\n",
       "      <td>0.035259</td>\n",
       "      <td>0.0</td>\n",
       "      <td>0.0</td>\n",
       "      <td>0.0</td>\n",
       "      <td>0.0</td>\n",
       "    </tr>\n",
       "  </tbody>\n",
       "</table>\n",
       "</div>"
      ],
      "text/plain": [
       "              buying maint     doors persons lug_boot safety acceptability\n",
       "buying           0.0   1.0       1.0     1.0      1.0    1.0           0.0\n",
       "maint            1.0   0.0       1.0     1.0      1.0    1.0           0.0\n",
       "doors            1.0   1.0       0.0     1.0      1.0    1.0      0.035259\n",
       "persons          1.0   1.0       1.0     0.0      1.0    1.0           0.0\n",
       "lug_boot         1.0   1.0       1.0     1.0      0.0    1.0           0.0\n",
       "safety           1.0   1.0       1.0     1.0      1.0    0.0           0.0\n",
       "acceptability    0.0   0.0  0.035259     0.0      0.0    0.0           0.0"
      ]
     },
     "execution_count": 31,
     "metadata": {},
     "output_type": "execute_result"
    }
   ],
   "source": [
    "# Print out our chi-squared matrix\n",
    "chi_sq_mat"
   ]
  },
  {
   "cell_type": "markdown",
   "id": "899b6828-b24b-418c-96c4-8547e62ce907",
   "metadata": {},
   "source": [
    "**Analysis**:\n",
    "\n",
    "Nearly all of our feature pairings (except the self pairings) have p-values of `1.0`, so we fail to reject the null hypothesis of the features being independent of one another.\n",
    "\n",
    "Given this, I'm not going to remove any features prior to training my model."
   ]
  },
  {
   "cell_type": "markdown",
   "id": "945d5e91-7207-4cad-a72f-575971b441d2",
   "metadata": {},
   "source": [
    "### 5) Data Split\n",
    "\n",
    "**Instructions**: Split the data into training and testing sets. Please use 42 for the random_state parameter."
   ]
  },
  {
   "cell_type": "code",
   "execution_count": 32,
   "id": "291f3762-2af1-4bb1-be35-ffbbac4afb94",
   "metadata": {},
   "outputs": [],
   "source": [
    "# Create our X & y dependent & target variable data sets\n",
    "y = df['acceptability']\n",
    "X = df.drop(columns=['acceptability'], axis=1)\n",
    "\n",
    "# Split our data into training & test data sets\n",
    "X_train, X_test, y_train, y_test = train_test_split(X, y, random_state=42)"
   ]
  },
  {
   "cell_type": "code",
   "execution_count": 33,
   "id": "69c687b8-6a5e-4260-b56c-59f7acd19aed",
   "metadata": {},
   "outputs": [
    {
     "name": "stdout",
     "output_type": "stream",
     "text": [
      "X_train: (1296, 6)\n",
      "X_test: (432, 6)\n",
      "y_train: (1296,)\n",
      "y_test: (432,)\n"
     ]
    }
   ],
   "source": [
    "# Ensure our data split correctly\n",
    "print(\"X_train: {}\".format(X_train.shape))\n",
    "print(\"X_test: {}\".format(X_test.shape))\n",
    "print(\"y_train: {}\".format(y_train.shape))\n",
    "print(\"y_test: {}\".format(y_test.shape))"
   ]
  },
  {
   "cell_type": "markdown",
   "id": "c182344a-ad41-4c2c-aa3c-d739c2b868a3",
   "metadata": {},
   "source": [
    "### 6) Model Training\n",
    "\n",
    "**Instructions**: Train your model using the RIPPER algorithm. Have 'acc' be the positive class. Remember that (1a) asked you to modify the acceptability feature so there are only 'acc' and 'unacc'."
   ]
  },
  {
   "cell_type": "code",
   "execution_count": 34,
   "id": "4d00bcab-5107-48ab-ac73-4083b18e9dff",
   "metadata": {},
   "outputs": [
    {
     "name": "stdout",
     "output_type": "stream",
     "text": [
      "\n",
      "GREW INITIAL RULESET:\n",
      "[[safety=high ^ persons=4 ^ maint=med] V\n",
      "[safety=high ^ persons=more ^ buying=low ^ doors=5more] V\n",
      "[safety=high ^ persons=4 ^ maint=low] V\n",
      "[persons=more ^ safety=high ^ buying=med ^ doors=3] V\n",
      "[persons=more ^ safety=high ^ maint=med] V\n",
      "[safety=med ^ persons=more ^ lug_boot=med ^ doors=4] V\n",
      "[safety=med ^ lug_boot=big ^ persons=4 ^ buying=med] V\n",
      "[safety=med ^ persons=more ^ buying=med ^ lug_boot=big] V\n",
      "[safety=med ^ buying=low ^ persons=4 ^ lug_boot=big] V\n",
      "[persons=more ^ safety=high ^ buying=low] V\n",
      "[persons=4 ^ safety=high ^ buying=low] V\n",
      "[safety=med ^ persons=more ^ lug_boot=big ^ buying=low] V\n",
      "[persons=more ^ safety=med ^ lug_boot=med ^ doors=5more] V\n",
      "[safety=med ^ persons=more ^ maint=low] V\n",
      "[persons=4 ^ safety=med ^ buying=low] V\n",
      "[persons=more ^ safety=high ^ maint=low ^ doors=4] V\n",
      "[safety=high ^ persons=more ^ maint=low ^ doors=5more] V\n",
      "[safety=high ^ persons=4 ^ buying=med] V\n",
      "[safety=med ^ persons=4 ^ maint=low ^ lug_boot=big] V\n",
      "[persons=more ^ safety=high ^ buying=med] V\n",
      "[safety=med ^ maint=med ^ persons=4 ^ buying=med] V\n",
      "[safety=med ^ persons=more ^ maint=med ^ buying=med] V\n",
      "[safety=med ^ persons=more ^ maint=med ^ buying=low] V\n",
      "[safety=med ^ persons=4 ^ maint=med ^ lug_boot=big] V\n",
      "[buying=high ^ maint=high ^ safety=high ^ persons=4] V\n",
      "[safety=med ^ persons=more ^ lug_boot=big ^ maint=med] V\n",
      "[persons=more ^ safety=high ^ maint=low] V\n",
      "[safety=med ^ persons=4 ^ doors=5more ^ lug_boot=med] V\n",
      "[safety=med ^ persons=more ^ maint=high ^ buying=high ^ lug_boot=big] V\n",
      "[persons=more ^ maint=high ^ safety=high ^ buying=high] V\n",
      "[safety=med ^ lug_boot=med ^ persons=more ^ buying=med] V\n",
      "[safety=med ^ lug_boot=med ^ doors=4 ^ persons=4] V\n",
      "[maint=high ^ safety=med ^ persons=more ^ buying=low] V\n",
      "[safety=med ^ buying=high ^ persons=more ^ doors=3 ^ lug_boot=med] V\n",
      "[persons=4 ^ safety=med ^ lug_boot=big ^ doors=2] V\n",
      "[maint=low ^ doors=5more ^ safety=med ^ persons=4]]\n",
      "\n",
      "optimization run 1 of 2\n",
      "\n",
      "OPTIMIZED RULESET:\n",
      "[[safety=high ^ persons=4 ^ maint=med] V\n",
      "[safety=high ^ persons=more ^ buying=low ^ doors=5more] V\n",
      "[safety=high ^ persons=4 ^ maint=low] V\n",
      "[persons=more ^ safety=high ^ buying=med ^ doors=3] V\n",
      "[persons=more ^ safety=high ^ maint=med] V\n",
      "[safety=med ^ persons=more ^ lug_boot=med] V\n",
      "[safety=med ^ lug_boot=big ^ persons=4] V\n",
      "[safety=med ^ persons=more ^ buying=med] V\n",
      "[safety=med ^ buying=low ^ persons=4 ^ lug_boot=big] V\n",
      "[persons=more ^ safety=high ^ buying=low] V\n",
      "[persons=4 ^ safety=high ^ buying=low] V\n",
      "[safety=med ^ persons=more ^ lug_boot=big ^ buying=low] V\n",
      "[safety=med ^ persons=more ^ lug_boot=big ^ maint=low] V\n",
      "[safety=med ^ persons=more ^ maint=low] V\n",
      "[persons=4 ^ safety=med ^ buying=low] V\n",
      "[persons=more ^ safety=high ^ maint=low ^ doors=4] V\n",
      "[safety=high ^ persons=more ^ maint=low ^ doors=5more] V\n",
      "[safety=high ^ persons=4 ^ buying=med] V\n",
      "[safety=med ^ persons=4 ^ maint=low ^ lug_boot=big] V\n",
      "[persons=more ^ safety=high ^ buying=med] V\n",
      "[safety=med ^ maint=med ^ persons=4 ^ buying=med] V\n",
      "[safety=med ^ persons=more ^ maint=med ^ buying=med] V\n",
      "[safety=med ^ persons=more ^ maint=med ^ buying=low] V\n",
      "[safety=med ^ persons=4 ^ maint=med ^ lug_boot=big] V\n",
      "[buying=high ^ maint=high ^ safety=high] V\n",
      "[safety=med ^ persons=more ^ lug_boot=big ^ maint=med] V\n",
      "[persons=more ^ safety=high ^ maint=low] V\n",
      "[safety=med ^ persons=4 ^ doors=5more ^ lug_boot=med] V\n",
      "[safety=med ^ persons=more ^ maint=high ^ buying=high ^ lug_boot=big] V\n",
      "[persons=more ^ maint=high ^ safety=high ^ buying=high] V\n",
      "[safety=med ^ persons=4 ^ buying=med ^ maint=low] V\n",
      "[safety=med ^ lug_boot=med ^ doors=4 ^ persons=4] V\n",
      "[maint=high ^ safety=med ^ persons=more ^ buying=low] V\n",
      "[safety=med ^ persons=4 ^ lug_boot=big ^ doors=2 ^ maint=high] V\n",
      "[persons=4 ^ safety=med ^ lug_boot=big ^ doors=2] V\n",
      "[maint=low ^ doors=4 ^ safety=med ^ buying=med]]\n",
      "\n",
      "optimization run 2 of 2\n",
      "\n",
      "OPTIMIZED RULESET:\n",
      "[[safety=high ^ persons=4 ^ maint=med] V\n",
      "[safety=high ^ persons=more ^ buying=low ^ doors=5more] V\n",
      "[safety=high ^ persons=4 ^ maint=low] V\n",
      "[persons=more ^ safety=high ^ buying=med ^ doors=3] V\n",
      "[persons=more ^ safety=high ^ maint=med] V\n",
      "[safety=med ^ persons=more ^ lug_boot=med] V\n",
      "[safety=med ^ lug_boot=big ^ persons=4] V\n",
      "[safety=med ^ persons=more ^ buying=med] V\n",
      "[safety=med ^ buying=low ^ persons=4 ^ lug_boot=big] V\n",
      "[persons=more ^ safety=high ^ buying=low] V\n",
      "[persons=4 ^ safety=high ^ buying=low] V\n",
      "[safety=med ^ persons=more ^ lug_boot=big ^ buying=low] V\n",
      "[safety=med ^ persons=more ^ lug_boot=big ^ maint=low] V\n",
      "[safety=med ^ persons=more ^ maint=low] V\n",
      "[persons=4 ^ safety=med ^ buying=low] V\n",
      "[persons=more ^ safety=high ^ maint=low ^ doors=4] V\n",
      "[safety=high ^ persons=more ^ maint=low ^ doors=5more] V\n",
      "[safety=high ^ persons=4 ^ buying=med] V\n",
      "[safety=med ^ persons=4 ^ maint=low ^ lug_boot=big] V\n",
      "[persons=more ^ safety=high ^ buying=med] V\n",
      "[safety=med ^ maint=med ^ persons=4 ^ buying=med] V\n",
      "[safety=med ^ persons=more ^ maint=med ^ buying=med] V\n",
      "[safety=med ^ persons=more ^ maint=med ^ buying=low] V\n",
      "[safety=med ^ persons=4 ^ maint=med ^ lug_boot=big] V\n",
      "[buying=high ^ maint=high ^ safety=high] V\n",
      "[safety=med ^ persons=more ^ lug_boot=big ^ maint=med] V\n",
      "[persons=more ^ safety=high ^ maint=low] V\n",
      "[safety=med ^ persons=4 ^ doors=5more ^ lug_boot=med] V\n",
      "[safety=med ^ persons=more ^ maint=high ^ buying=high ^ lug_boot=big] V\n",
      "[persons=more ^ maint=high ^ safety=high ^ buying=high] V\n",
      "[safety=med ^ persons=4 ^ buying=med ^ maint=low] V\n",
      "[safety=med ^ lug_boot=med ^ doors=4 ^ persons=4] V\n",
      "[maint=high ^ safety=med ^ persons=more ^ buying=low] V\n",
      "[safety=med ^ persons=4 ^ lug_boot=big ^ doors=2 ^ maint=high] V\n",
      "[persons=4 ^ safety=med ^ lug_boot=big ^ doors=2] V\n",
      "[maint=low ^ doors=4 ^ safety=med ^ buying=med]]\n",
      "\n",
      "GREW FINAL RULES\n",
      "[[safety=high ^ persons=4 ^ maint=med] V\n",
      "[safety=high ^ persons=more ^ buying=low ^ doors=5more] V\n",
      "[safety=high ^ persons=4 ^ maint=low] V\n",
      "[persons=more ^ safety=high ^ buying=med ^ doors=3] V\n",
      "[persons=more ^ safety=high ^ maint=med] V\n",
      "[safety=med ^ persons=more ^ lug_boot=med] V\n",
      "[safety=med ^ lug_boot=big ^ persons=4] V\n",
      "[safety=med ^ persons=more ^ buying=med] V\n",
      "[safety=med ^ buying=low ^ persons=4 ^ lug_boot=big] V\n",
      "[persons=more ^ safety=high ^ buying=low] V\n",
      "[persons=4 ^ safety=high ^ buying=low] V\n",
      "[safety=med ^ persons=more ^ lug_boot=big ^ buying=low] V\n",
      "[safety=med ^ persons=more ^ lug_boot=big ^ maint=low] V\n",
      "[safety=med ^ persons=more ^ maint=low] V\n",
      "[persons=4 ^ safety=med ^ buying=low] V\n",
      "[persons=more ^ safety=high ^ maint=low ^ doors=4] V\n",
      "[safety=high ^ persons=more ^ maint=low ^ doors=5more] V\n",
      "[safety=high ^ persons=4 ^ buying=med] V\n",
      "[safety=med ^ persons=4 ^ maint=low ^ lug_boot=big] V\n",
      "[persons=more ^ safety=high ^ buying=med] V\n",
      "[safety=med ^ maint=med ^ persons=4 ^ buying=med] V\n",
      "[safety=med ^ persons=more ^ maint=med ^ buying=med] V\n",
      "[safety=med ^ persons=more ^ maint=med ^ buying=low] V\n",
      "[safety=med ^ persons=4 ^ maint=med ^ lug_boot=big] V\n",
      "[buying=high ^ maint=high ^ safety=high] V\n",
      "[safety=med ^ persons=more ^ lug_boot=big ^ maint=med] V\n",
      "[persons=more ^ safety=high ^ maint=low] V\n",
      "[safety=med ^ persons=4 ^ doors=5more ^ lug_boot=med] V\n",
      "[safety=med ^ persons=more ^ maint=high ^ buying=high ^ lug_boot=big] V\n",
      "[persons=more ^ maint=high ^ safety=high ^ buying=high] V\n",
      "[safety=med ^ persons=4 ^ buying=med ^ maint=low] V\n",
      "[safety=med ^ lug_boot=med ^ doors=4 ^ persons=4] V\n",
      "[maint=high ^ safety=med ^ persons=more ^ buying=low] V\n",
      "[safety=med ^ persons=4 ^ lug_boot=big ^ doors=2 ^ maint=high] V\n",
      "[persons=4 ^ safety=med ^ lug_boot=big ^ doors=2] V\n",
      "[maint=low ^ doors=4 ^ safety=med ^ buying=med] V\n",
      "[safety=high ^ persons=4 ^ maint=med] V\n",
      "[safety=high ^ persons=more ^ buying=low ^ doors=5more] V\n",
      "[safety=high ^ persons=4 ^ maint=low] V\n",
      "[persons=more ^ safety=high ^ buying=med ^ doors=3] V\n",
      "[persons=more ^ safety=high ^ maint=med] V\n",
      "[safety=med ^ persons=more ^ lug_boot=med ^ doors=4] V\n",
      "[safety=med ^ lug_boot=big ^ persons=4 ^ buying=med] V\n",
      "[safety=med ^ persons=more ^ buying=med ^ lug_boot=big] V\n",
      "[safety=med ^ buying=low ^ persons=4 ^ lug_boot=big]]\n",
      "\n",
      "FINAL RULESET:\n",
      "[[safety=high ^ persons=4 ^ maint=med] V\n",
      "[safety=high ^ persons=more ^ buying=low ^ doors=5more] V\n",
      "[safety=high ^ persons=4 ^ maint=low] V\n",
      "[persons=more ^ safety=high ^ buying=med ^ doors=3] V\n",
      "[persons=more ^ safety=high ^ maint=med] V\n",
      "[safety=med ^ persons=more ^ lug_boot=med] V\n",
      "[safety=med ^ lug_boot=big ^ persons=4] V\n",
      "[safety=med ^ persons=more ^ buying=med] V\n",
      "[persons=more ^ safety=high ^ buying=low] V\n",
      "[persons=4 ^ safety=high ^ buying=low] V\n",
      "[safety=med ^ persons=more ^ lug_boot=big ^ buying=low] V\n",
      "[safety=med ^ persons=more ^ lug_boot=big ^ maint=low] V\n",
      "[persons=4 ^ safety=med ^ buying=low] V\n",
      "[persons=more ^ safety=high ^ maint=low ^ doors=4] V\n",
      "[safety=high ^ persons=more ^ maint=low ^ doors=5more] V\n",
      "[safety=high ^ persons=4 ^ buying=med] V\n",
      "[persons=more ^ safety=high ^ buying=med] V\n",
      "[safety=med ^ maint=med ^ persons=4 ^ buying=med] V\n",
      "[safety=med ^ persons=more ^ maint=med ^ buying=low] V\n",
      "[buying=high ^ maint=high ^ safety=high] V\n",
      "[safety=med ^ persons=more ^ lug_boot=big ^ maint=med] V\n",
      "[persons=more ^ safety=high ^ maint=low] V\n",
      "[safety=med ^ persons=4 ^ doors=5more ^ lug_boot=med] V\n",
      "[safety=med ^ persons=more ^ maint=high ^ buying=high ^ lug_boot=big] V\n",
      "[safety=med ^ persons=4 ^ buying=med ^ maint=low] V\n",
      "[safety=med ^ lug_boot=med ^ doors=4 ^ persons=4]]\n",
      "\n"
     ]
    }
   ],
   "source": [
    "# Instantiate our Ripper classifier\n",
    "ripper_clf = lw.RIPPER(random_state=42, verbosity=1)\n",
    "\n",
    "# Fit our model, choose 'acc' as the positive class for our target\n",
    "ripper_clf.fit(X_train, y_train, pos_class='acc')"
   ]
  },
  {
   "cell_type": "markdown",
   "id": "81564050-714e-4a69-b7b7-e4adc50d73cd",
   "metadata": {},
   "source": [
    "### 7) Model Predictions & Analysis\n",
    "\n",
    "**Instructions**: Using testing data, predict values using your model. Then, print and discuss the confusion matrix. Note the analysis metrics accuracy, precision, recall, and F1 scores and discuss what you find."
   ]
  },
  {
   "cell_type": "markdown",
   "id": "276aa714-2b37-453b-9d11-2a11c66c0ebd",
   "metadata": {},
   "source": [
    "#### 7.1) Metrics"
   ]
  },
  {
   "cell_type": "code",
   "execution_count": 35,
   "id": "f5c8945a-f687-4bc3-a009-fd2e5984b6e2",
   "metadata": {},
   "outputs": [],
   "source": [
    "# Make a prediction with our test data\n",
    "y_pred = ripper_clf.predict(X_test)"
   ]
  },
  {
   "cell_type": "code",
   "execution_count": 36,
   "id": "aa2c19e9-3c5c-407e-b9e1-dea0b1ed89b1",
   "metadata": {},
   "outputs": [],
   "source": [
    "# The prediction above outputs True & False rather than 'acc' and 'unacc'.\n",
    "# That prevents us from creating a confusion matrix below due to unmatched data types.\n",
    "# Let's fix this with a list comprehension to map True to 'acc' and False to 'unacc':\n",
    "y_pred_map=['acc' if x==True else 'unacc' for x in y_pred]"
   ]
  },
  {
   "cell_type": "code",
   "execution_count": 37,
   "id": "a1647b71-7c5c-43d9-b17c-57e0efe683a1",
   "metadata": {},
   "outputs": [
    {
     "name": "stdout",
     "output_type": "stream",
     "text": [
      "Accuracy: 0.9490740740740741\n",
      "Precision: 0.9322742474916388\n",
      "Recall: 0.958740017746229\n",
      "F1 Score: 0.9432867883995704\n"
     ]
    }
   ],
   "source": [
    "# Output accuracy, precision, recall, & F1 metrics for our model using scikit-learn's metrics library:\n",
    "print(\"Accuracy: {}\".format(metrics.accuracy_score(y_test, y_pred_map)))\n",
    "print(\"Precision: {}\".format(metrics.precision_score(y_test, y_pred_map, average='macro')))\n",
    "print(\"Recall: {}\".format(metrics.recall_score(y_test, y_pred_map, average='macro')))\n",
    "print(\"F1 Score: {}\".format(metrics.f1_score(y_test, y_pred_map, average='macro')))"
   ]
  },
  {
   "cell_type": "markdown",
   "id": "3d88ccf4-eb57-461f-bc6a-1be69f9aba38",
   "metadata": {},
   "source": [
    "#### 7.2) Confusion Matrix"
   ]
  },
  {
   "cell_type": "code",
   "execution_count": 38,
   "id": "32da8dfd-f9a3-406d-a6d4-3c2637bf0a72",
   "metadata": {},
   "outputs": [
    {
     "data": {
      "image/png": "[encoded data removed]",
      "text/plain": [
       "<Figure size 640x480 with 2 Axes>"
      ]
     },
     "metadata": {},
     "output_type": "display_data"
    }
   ],
   "source": [
    "# Display our Confusion Matrix\n",
    "cm = metrics.confusion_matrix(y_test, y_pred_map)\n",
    "cm_display = metrics.ConfusionMatrixDisplay(cm).plot()"
   ]
  },
  {
   "cell_type": "markdown",
   "id": "0a996714-2647-40c6-af64-e339fb07f097",
   "metadata": {},
   "source": [
    "**Analysis**:\n",
    "\n",
    "Looking at our Accuracy, Precision, Recall, & F1 Score above, we're in the low to mid 90s across the board. These metrics match up with the output of the confusion matrix above.\n",
    "\n",
    "Based off our performance metrics, I'd say we have a pretty decent model that doesn't appear to be overfit to our training data. It did have a few more false negatives (20) than false positives (2), but compared to true negatives/true positives, it seemed to perform pretty well. I'm happy with the results."
   ]
  },
  {
   "cell_type": "markdown",
   "id": "2aaa34d9-4f4f-42cc-a2cd-bd8ed371eb2c",
   "metadata": {},
   "source": [
    "### 8) Output Final Rules & Analysis\n",
    "\n",
    "**Instructions**: Print out the rules again, state what feature or features are most important to classification."
   ]
  },
  {
   "cell_type": "code",
   "execution_count": 39,
   "id": "68e24205-1c7a-45a7-a6c3-86feeee0808f",
   "metadata": {},
   "outputs": [
    {
     "name": "stdout",
     "output_type": "stream",
     "text": [
      "[[safety=high ^ persons=4 ^ maint=med] V\n",
      "[safety=high ^ persons=more ^ buying=low ^ doors=5more] V\n",
      "[safety=high ^ persons=4 ^ maint=low] V\n",
      "[persons=more ^ safety=high ^ buying=med ^ doors=3] V\n",
      "[persons=more ^ safety=high ^ maint=med] V\n",
      "[safety=med ^ persons=more ^ lug_boot=med] V\n",
      "[safety=med ^ lug_boot=big ^ persons=4] V\n",
      "[safety=med ^ persons=more ^ buying=med] V\n",
      "[persons=more ^ safety=high ^ buying=low] V\n",
      "[persons=4 ^ safety=high ^ buying=low] V\n",
      "[safety=med ^ persons=more ^ lug_boot=big ^ buying=low] V\n",
      "[safety=med ^ persons=more ^ lug_boot=big ^ maint=low] V\n",
      "[persons=4 ^ safety=med ^ buying=low] V\n",
      "[persons=more ^ safety=high ^ maint=low ^ doors=4] V\n",
      "[safety=high ^ persons=more ^ maint=low ^ doors=5more] V\n",
      "[safety=high ^ persons=4 ^ buying=med] V\n",
      "[persons=more ^ safety=high ^ buying=med] V\n",
      "[safety=med ^ maint=med ^ persons=4 ^ buying=med] V\n",
      "[safety=med ^ persons=more ^ maint=med ^ buying=low] V\n",
      "[buying=high ^ maint=high ^ safety=high] V\n",
      "[safety=med ^ persons=more ^ lug_boot=big ^ maint=med] V\n",
      "[persons=more ^ safety=high ^ maint=low] V\n",
      "[safety=med ^ persons=4 ^ doors=5more ^ lug_boot=med] V\n",
      "[safety=med ^ persons=more ^ maint=high ^ buying=high ^ lug_boot=big] V\n",
      "[safety=med ^ persons=4 ^ buying=med ^ maint=low] V\n",
      "[safety=med ^ lug_boot=med ^ doors=4 ^ persons=4]]\n"
     ]
    }
   ],
   "source": [
    "# Pretty print the final rulset\n",
    "ripper_clf.ruleset_.out_pretty()"
   ]
  },
  {
   "cell_type": "code",
   "execution_count": 40,
   "id": "5890f3fe-ad9f-4492-9b3e-5c609af94ae5",
   "metadata": {},
   "outputs": [
    {
     "name": "stdout",
     "output_type": "stream",
     "text": [
      "buying count: 14\n",
      "maint count: 13\n",
      "doors count: 6\n",
      "persons count: 25\n",
      "lug_boot count: 8\n",
      "safety count: 26\n"
     ]
    }
   ],
   "source": [
    "# Let's cast the final ruleset as a string to count the number of times a feature appears in the ruleset\n",
    "final_ruleset = str(ripper_clf.ruleset_)\n",
    "\n",
    "# Count up and print out the number of occurrences of each feature in the ruleset; don't include our target\n",
    "for feature in df.columns.drop('acceptability'):\n",
    "    feature_count = final_ruleset.count(feature)\n",
    "    print(f'{feature} count: {feature_count}')"
   ]
  },
  {
   "cell_type": "markdown",
   "id": "b452f464-aa7d-41d9-9ada-0c75162f50fc",
   "metadata": {},
   "source": [
    "**Final Analysis**:\n",
    "\n",
    "If we go strictly based on the number of times that a feature appears in the final ruleset, then the top 4 most important features for classification were:\n",
    "1. safety\n",
    "2. persons\n",
    "3. buying\n",
    "4. maint\n",
    "\n",
    "The `lug_boot` and `doors` features were also present, but much less frequently than the previous top 4."
   ]
  }
 ],
 "metadata": {
  "kernelspec": {
   "display_name": "Python 3 (ipykernel)",
   "language": "python",
   "name": "python3"
  },
  "language_info": {
   "codemirror_mode": {
    "name": "ipython",
    "version": 3
   },
   "file_extension": ".py",
   "mimetype": "text/x-python",
   "name": "python",
   "nbconvert_exporter": "python",
   "pygments_lexer": "ipython3",
   "version": "3.11.6"
  }
 },
 "nbformat": 4,
 "nbformat_minor": 5
}
