{
 "cells": [
  {
   "cell_type": "markdown",
   "id": "7fd1a824-7250-4d33-ac49-e436f1eb4166",
   "metadata": {},
   "source": [
    "## K-Nearest Neighbors\n",
    "\n",
    "**Environment Details**: \n",
    "- **OS**: OpenSUSE Tumbleweed (x86_64)\n",
    "- **Python version**: 3.11.6\n",
    "- **Jupyter-Lab version**: 4.0.9\n",
    "***"
   ]
  },
  {
   "cell_type": "markdown",
   "id": "cc5c2f2b-e5c7-4c48-a12c-beb1209426f1",
   "metadata": {},
   "source": [
    "### Pre-task setup"
   ]
  },
  {
   "cell_type": "code",
   "execution_count": 1,
   "id": "095ecca1-2dc0-4474-9de5-a75edf612360",
   "metadata": {},
   "outputs": [],
   "source": [
    "# Imports\n",
    "import math\n",
    "import numpy as np\n",
    "import pandas as pd\n",
    "import matplotlib.pyplot as plt\n",
    "%matplotlib inline\n",
    "\n",
    "# Scikit-Learn imports\n",
    "from sklearn.model_selection import train_test_split\n",
    "from sklearn.model_selection import GridSearchCV\n",
    "from sklearn import metrics\n",
    "from sklearn.metrics import RocCurveDisplay, roc_curve, auc\n",
    "from sklearn.metrics import PrecisionRecallDisplay, precision_recall_curve\n",
    "from sklearn.neighbors import KNeighborsClassifier\n",
    "\n",
    "# Nicer Jupyter output formatting\n",
    "import ipywidgets as widgets\n",
    "\n",
    "# Quiet filter warnings\n",
    "import warnings\n",
    "warnings.filterwarnings('ignore')"
   ]
  },
  {
   "cell_type": "markdown",
   "id": "d69f1307-c776-4194-9059-10ddb332607c",
   "metadata": {},
   "source": [
    "### 0) DataFrame Creation"
   ]
  },
  {
   "cell_type": "code",
   "execution_count": 2,
   "id": "27229a8f-d06d-4c4e-8d85-ad7f63c31a66",
   "metadata": {},
   "outputs": [],
   "source": [
    "# Load our 28 x 28 RGB image CSV data into a Pandas DataFrame\n",
    "df = pd.read_csv('hmnist_28_28_RGB.csv')"
   ]
  },
  {
   "cell_type": "code",
   "execution_count": 3,
   "id": "1bc08bed-e384-4823-9473-9e7ec5046420",
   "metadata": {},
   "outputs": [
    {
     "data": {
      "text/html": [
       "<div>\n",
       "<style scoped>\n",
       "    .dataframe tbody tr th:only-of-type {\n",
       "        vertical-align: middle;\n",
       "    }\n",
       "\n",
       "    .dataframe tbody tr th {\n",
       "        vertical-align: top;\n",
       "    }\n",
       "\n",
       "    .dataframe thead th {\n",
       "        text-align: right;\n",
       "    }\n",
       "</style>\n",
       "<table border=\"1\" class=\"dataframe\">\n",
       "  <thead>\n",
       "    <tr style=\"text-align: right;\">\n",
       "      <th></th>\n",
       "      <th>pixel0000</th>\n",
       "      <th>pixel0001</th>\n",
       "      <th>pixel0002</th>\n",
       "      <th>pixel0003</th>\n",
       "      <th>pixel0004</th>\n",
       "      <th>pixel0005</th>\n",
       "      <th>pixel0006</th>\n",
       "      <th>pixel0007</th>\n",
       "      <th>pixel0008</th>\n",
       "      <th>pixel0009</th>\n",
       "      <th>...</th>\n",
       "      <th>pixel2343</th>\n",
       "      <th>pixel2344</th>\n",
       "      <th>pixel2345</th>\n",
       "      <th>pixel2346</th>\n",
       "      <th>pixel2347</th>\n",
       "      <th>pixel2348</th>\n",
       "      <th>pixel2349</th>\n",
       "      <th>pixel2350</th>\n",
       "      <th>pixel2351</th>\n",
       "      <th>label</th>\n",
       "    </tr>\n",
       "  </thead>\n",
       "  <tbody>\n",
       "    <tr>\n",
       "      <th>0</th>\n",
       "      <td>192</td>\n",
       "      <td>153</td>\n",
       "      <td>193</td>\n",
       "      <td>195</td>\n",
       "      <td>155</td>\n",
       "      <td>192</td>\n",
       "      <td>197</td>\n",
       "      <td>154</td>\n",
       "      <td>185</td>\n",
       "      <td>202</td>\n",
       "      <td>...</td>\n",
       "      <td>173</td>\n",
       "      <td>124</td>\n",
       "      <td>138</td>\n",
       "      <td>183</td>\n",
       "      <td>147</td>\n",
       "      <td>166</td>\n",
       "      <td>185</td>\n",
       "      <td>154</td>\n",
       "      <td>177</td>\n",
       "      <td>2</td>\n",
       "    </tr>\n",
       "    <tr>\n",
       "      <th>1</th>\n",
       "      <td>25</td>\n",
       "      <td>14</td>\n",
       "      <td>30</td>\n",
       "      <td>68</td>\n",
       "      <td>48</td>\n",
       "      <td>75</td>\n",
       "      <td>123</td>\n",
       "      <td>93</td>\n",
       "      <td>126</td>\n",
       "      <td>158</td>\n",
       "      <td>...</td>\n",
       "      <td>60</td>\n",
       "      <td>39</td>\n",
       "      <td>55</td>\n",
       "      <td>25</td>\n",
       "      <td>14</td>\n",
       "      <td>28</td>\n",
       "      <td>25</td>\n",
       "      <td>14</td>\n",
       "      <td>27</td>\n",
       "      <td>2</td>\n",
       "    </tr>\n",
       "    <tr>\n",
       "      <th>2</th>\n",
       "      <td>192</td>\n",
       "      <td>138</td>\n",
       "      <td>153</td>\n",
       "      <td>200</td>\n",
       "      <td>145</td>\n",
       "      <td>163</td>\n",
       "      <td>201</td>\n",
       "      <td>142</td>\n",
       "      <td>160</td>\n",
       "      <td>206</td>\n",
       "      <td>...</td>\n",
       "      <td>167</td>\n",
       "      <td>129</td>\n",
       "      <td>143</td>\n",
       "      <td>159</td>\n",
       "      <td>124</td>\n",
       "      <td>142</td>\n",
       "      <td>136</td>\n",
       "      <td>104</td>\n",
       "      <td>117</td>\n",
       "      <td>2</td>\n",
       "    </tr>\n",
       "    <tr>\n",
       "      <th>3</th>\n",
       "      <td>38</td>\n",
       "      <td>19</td>\n",
       "      <td>30</td>\n",
       "      <td>95</td>\n",
       "      <td>59</td>\n",
       "      <td>72</td>\n",
       "      <td>143</td>\n",
       "      <td>103</td>\n",
       "      <td>119</td>\n",
       "      <td>171</td>\n",
       "      <td>...</td>\n",
       "      <td>44</td>\n",
       "      <td>26</td>\n",
       "      <td>36</td>\n",
       "      <td>25</td>\n",
       "      <td>12</td>\n",
       "      <td>17</td>\n",
       "      <td>25</td>\n",
       "      <td>12</td>\n",
       "      <td>15</td>\n",
       "      <td>2</td>\n",
       "    </tr>\n",
       "    <tr>\n",
       "      <th>4</th>\n",
       "      <td>158</td>\n",
       "      <td>113</td>\n",
       "      <td>139</td>\n",
       "      <td>194</td>\n",
       "      <td>144</td>\n",
       "      <td>174</td>\n",
       "      <td>215</td>\n",
       "      <td>162</td>\n",
       "      <td>191</td>\n",
       "      <td>225</td>\n",
       "      <td>...</td>\n",
       "      <td>209</td>\n",
       "      <td>166</td>\n",
       "      <td>185</td>\n",
       "      <td>172</td>\n",
       "      <td>135</td>\n",
       "      <td>149</td>\n",
       "      <td>109</td>\n",
       "      <td>78</td>\n",
       "      <td>92</td>\n",
       "      <td>2</td>\n",
       "    </tr>\n",
       "  </tbody>\n",
       "</table>\n",
       "<p>5 rows × 2353 columns</p>\n",
       "</div>"
      ],
      "text/plain": [
       "   pixel0000  pixel0001  pixel0002  pixel0003  pixel0004  pixel0005  \\\n",
       "0        192        153        193        195        155        192   \n",
       "1         25         14         30         68         48         75   \n",
       "2        192        138        153        200        145        163   \n",
       "3         38         19         30         95         59         72   \n",
       "4        158        113        139        194        144        174   \n",
       "\n",
       "   pixel0006  pixel0007  pixel0008  pixel0009  ...  pixel2343  pixel2344  \\\n",
       "0        197        154        185        202  ...        173        124   \n",
       "1        123         93        126        158  ...         60         39   \n",
       "2        201        142        160        206  ...        167        129   \n",
       "3        143        103        119        171  ...         44         26   \n",
       "4        215        162        191        225  ...        209        166   \n",
       "\n",
       "   pixel2345  pixel2346  pixel2347  pixel2348  pixel2349  pixel2350  \\\n",
       "0        138        183        147        166        185        154   \n",
       "1         55         25         14         28         25         14   \n",
       "2        143        159        124        142        136        104   \n",
       "3         36         25         12         17         25         12   \n",
       "4        185        172        135        149        109         78   \n",
       "\n",
       "   pixel2351  label  \n",
       "0        177      2  \n",
       "1         27      2  \n",
       "2        117      2  \n",
       "3         15      2  \n",
       "4         92      2  \n",
       "\n",
       "[5 rows x 2353 columns]"
      ]
     },
     "execution_count": 3,
     "metadata": {},
     "output_type": "execute_result"
    }
   ],
   "source": [
    "# Ensure our data loaded correctly\n",
    "df.head()"
   ]
  },
  {
   "cell_type": "code",
   "execution_count": 4,
   "id": "e57be94a-3f01-4af5-81f7-39f26ae96b9a",
   "metadata": {},
   "outputs": [
    {
     "data": {
      "text/html": [
       "<div>\n",
       "<style scoped>\n",
       "    .dataframe tbody tr th:only-of-type {\n",
       "        vertical-align: middle;\n",
       "    }\n",
       "\n",
       "    .dataframe tbody tr th {\n",
       "        vertical-align: top;\n",
       "    }\n",
       "\n",
       "    .dataframe thead th {\n",
       "        text-align: right;\n",
       "    }\n",
       "</style>\n",
       "<table border=\"1\" class=\"dataframe\">\n",
       "  <thead>\n",
       "    <tr style=\"text-align: right;\">\n",
       "      <th></th>\n",
       "      <th>pixel0000</th>\n",
       "      <th>pixel0001</th>\n",
       "      <th>pixel0002</th>\n",
       "      <th>pixel0003</th>\n",
       "      <th>pixel0004</th>\n",
       "      <th>pixel0005</th>\n",
       "      <th>pixel0006</th>\n",
       "      <th>pixel0007</th>\n",
       "      <th>pixel0008</th>\n",
       "      <th>pixel0009</th>\n",
       "      <th>...</th>\n",
       "      <th>pixel2343</th>\n",
       "      <th>pixel2344</th>\n",
       "      <th>pixel2345</th>\n",
       "      <th>pixel2346</th>\n",
       "      <th>pixel2347</th>\n",
       "      <th>pixel2348</th>\n",
       "      <th>pixel2349</th>\n",
       "      <th>pixel2350</th>\n",
       "      <th>pixel2351</th>\n",
       "      <th>label</th>\n",
       "    </tr>\n",
       "  </thead>\n",
       "  <tbody>\n",
       "    <tr>\n",
       "      <th>count</th>\n",
       "      <td>10015.000000</td>\n",
       "      <td>10015.000000</td>\n",
       "      <td>10015.00000</td>\n",
       "      <td>10015.000000</td>\n",
       "      <td>10015.000000</td>\n",
       "      <td>10015.000000</td>\n",
       "      <td>10015.000000</td>\n",
       "      <td>10015.000000</td>\n",
       "      <td>10015.000000</td>\n",
       "      <td>10015.000000</td>\n",
       "      <td>...</td>\n",
       "      <td>10015.00000</td>\n",
       "      <td>10015.000000</td>\n",
       "      <td>10015.000000</td>\n",
       "      <td>10015.000000</td>\n",
       "      <td>10015.000000</td>\n",
       "      <td>10015.000000</td>\n",
       "      <td>10015.000000</td>\n",
       "      <td>10015.000000</td>\n",
       "      <td>10015.000000</td>\n",
       "      <td>10015.000000</td>\n",
       "    </tr>\n",
       "    <tr>\n",
       "      <th>mean</th>\n",
       "      <td>181.056415</td>\n",
       "      <td>131.728407</td>\n",
       "      <td>141.24024</td>\n",
       "      <td>187.274488</td>\n",
       "      <td>137.089466</td>\n",
       "      <td>147.206191</td>\n",
       "      <td>192.358862</td>\n",
       "      <td>141.796405</td>\n",
       "      <td>152.211782</td>\n",
       "      <td>196.177234</td>\n",
       "      <td>...</td>\n",
       "      <td>184.68657</td>\n",
       "      <td>138.416875</td>\n",
       "      <td>144.061508</td>\n",
       "      <td>178.656216</td>\n",
       "      <td>133.217474</td>\n",
       "      <td>138.752172</td>\n",
       "      <td>172.307239</td>\n",
       "      <td>127.871193</td>\n",
       "      <td>133.144483</td>\n",
       "      <td>3.720919</td>\n",
       "    </tr>\n",
       "    <tr>\n",
       "      <th>std</th>\n",
       "      <td>59.746698</td>\n",
       "      <td>45.043473</td>\n",
       "      <td>48.67267</td>\n",
       "      <td>54.021274</td>\n",
       "      <td>41.138096</td>\n",
       "      <td>44.661091</td>\n",
       "      <td>48.267713</td>\n",
       "      <td>37.382709</td>\n",
       "      <td>40.725174</td>\n",
       "      <td>43.892249</td>\n",
       "      <td>...</td>\n",
       "      <td>47.02376</td>\n",
       "      <td>38.393007</td>\n",
       "      <td>41.322365</td>\n",
       "      <td>53.534096</td>\n",
       "      <td>42.910723</td>\n",
       "      <td>45.642257</td>\n",
       "      <td>58.533979</td>\n",
       "      <td>46.453818</td>\n",
       "      <td>49.060028</td>\n",
       "      <td>1.347499</td>\n",
       "    </tr>\n",
       "    <tr>\n",
       "      <th>min</th>\n",
       "      <td>0.000000</td>\n",
       "      <td>0.000000</td>\n",
       "      <td>0.00000</td>\n",
       "      <td>0.000000</td>\n",
       "      <td>0.000000</td>\n",
       "      <td>0.000000</td>\n",
       "      <td>0.000000</td>\n",
       "      <td>0.000000</td>\n",
       "      <td>0.000000</td>\n",
       "      <td>0.000000</td>\n",
       "      <td>...</td>\n",
       "      <td>0.00000</td>\n",
       "      <td>0.000000</td>\n",
       "      <td>0.000000</td>\n",
       "      <td>0.000000</td>\n",
       "      <td>0.000000</td>\n",
       "      <td>0.000000</td>\n",
       "      <td>0.000000</td>\n",
       "      <td>0.000000</td>\n",
       "      <td>0.000000</td>\n",
       "      <td>0.000000</td>\n",
       "    </tr>\n",
       "    <tr>\n",
       "      <th>25%</th>\n",
       "      <td>158.000000</td>\n",
       "      <td>117.000000</td>\n",
       "      <td>123.00000</td>\n",
       "      <td>165.000000</td>\n",
       "      <td>122.000000</td>\n",
       "      <td>130.000000</td>\n",
       "      <td>170.000000</td>\n",
       "      <td>127.000000</td>\n",
       "      <td>135.000000</td>\n",
       "      <td>174.000000</td>\n",
       "      <td>...</td>\n",
       "      <td>166.00000</td>\n",
       "      <td>123.000000</td>\n",
       "      <td>126.000000</td>\n",
       "      <td>160.000000</td>\n",
       "      <td>118.000000</td>\n",
       "      <td>120.000000</td>\n",
       "      <td>153.000000</td>\n",
       "      <td>113.000000</td>\n",
       "      <td>115.000000</td>\n",
       "      <td>4.000000</td>\n",
       "    </tr>\n",
       "    <tr>\n",
       "      <th>50%</th>\n",
       "      <td>198.000000</td>\n",
       "      <td>141.000000</td>\n",
       "      <td>151.00000</td>\n",
       "      <td>201.000000</td>\n",
       "      <td>144.000000</td>\n",
       "      <td>155.000000</td>\n",
       "      <td>204.000000</td>\n",
       "      <td>146.000000</td>\n",
       "      <td>157.000000</td>\n",
       "      <td>205.000000</td>\n",
       "      <td>...</td>\n",
       "      <td>197.00000</td>\n",
       "      <td>144.000000</td>\n",
       "      <td>149.000000</td>\n",
       "      <td>195.000000</td>\n",
       "      <td>141.000000</td>\n",
       "      <td>146.000000</td>\n",
       "      <td>191.000000</td>\n",
       "      <td>138.000000</td>\n",
       "      <td>142.000000</td>\n",
       "      <td>4.000000</td>\n",
       "    </tr>\n",
       "    <tr>\n",
       "      <th>75%</th>\n",
       "      <td>224.000000</td>\n",
       "      <td>159.000000</td>\n",
       "      <td>172.00000</td>\n",
       "      <td>226.000000</td>\n",
       "      <td>162.000000</td>\n",
       "      <td>174.000000</td>\n",
       "      <td>227.000000</td>\n",
       "      <td>163.000000</td>\n",
       "      <td>177.000000</td>\n",
       "      <td>228.000000</td>\n",
       "      <td>...</td>\n",
       "      <td>216.00000</td>\n",
       "      <td>161.000000</td>\n",
       "      <td>169.000000</td>\n",
       "      <td>214.000000</td>\n",
       "      <td>159.000000</td>\n",
       "      <td>166.000000</td>\n",
       "      <td>212.000000</td>\n",
       "      <td>156.000000</td>\n",
       "      <td>163.000000</td>\n",
       "      <td>4.000000</td>\n",
       "    </tr>\n",
       "    <tr>\n",
       "      <th>max</th>\n",
       "      <td>255.000000</td>\n",
       "      <td>246.000000</td>\n",
       "      <td>255.00000</td>\n",
       "      <td>254.000000</td>\n",
       "      <td>246.000000</td>\n",
       "      <td>254.000000</td>\n",
       "      <td>255.000000</td>\n",
       "      <td>251.000000</td>\n",
       "      <td>255.000000</td>\n",
       "      <td>255.000000</td>\n",
       "      <td>...</td>\n",
       "      <td>255.00000</td>\n",
       "      <td>254.000000</td>\n",
       "      <td>254.000000</td>\n",
       "      <td>254.000000</td>\n",
       "      <td>252.000000</td>\n",
       "      <td>255.000000</td>\n",
       "      <td>254.000000</td>\n",
       "      <td>249.000000</td>\n",
       "      <td>254.000000</td>\n",
       "      <td>6.000000</td>\n",
       "    </tr>\n",
       "  </tbody>\n",
       "</table>\n",
       "<p>8 rows × 2353 columns</p>\n",
       "</div>"
      ],
      "text/plain": [
       "          pixel0000     pixel0001    pixel0002     pixel0003     pixel0004  \\\n",
       "count  10015.000000  10015.000000  10015.00000  10015.000000  10015.000000   \n",
       "mean     181.056415    131.728407    141.24024    187.274488    137.089466   \n",
       "std       59.746698     45.043473     48.67267     54.021274     41.138096   \n",
       "min        0.000000      0.000000      0.00000      0.000000      0.000000   \n",
       "25%      158.000000    117.000000    123.00000    165.000000    122.000000   \n",
       "50%      198.000000    141.000000    151.00000    201.000000    144.000000   \n",
       "75%      224.000000    159.000000    172.00000    226.000000    162.000000   \n",
       "max      255.000000    246.000000    255.00000    254.000000    246.000000   \n",
       "\n",
       "          pixel0005     pixel0006     pixel0007     pixel0008     pixel0009  \\\n",
       "count  10015.000000  10015.000000  10015.000000  10015.000000  10015.000000   \n",
       "mean     147.206191    192.358862    141.796405    152.211782    196.177234   \n",
       "std       44.661091     48.267713     37.382709     40.725174     43.892249   \n",
       "min        0.000000      0.000000      0.000000      0.000000      0.000000   \n",
       "25%      130.000000    170.000000    127.000000    135.000000    174.000000   \n",
       "50%      155.000000    204.000000    146.000000    157.000000    205.000000   \n",
       "75%      174.000000    227.000000    163.000000    177.000000    228.000000   \n",
       "max      254.000000    255.000000    251.000000    255.000000    255.000000   \n",
       "\n",
       "       ...    pixel2343     pixel2344     pixel2345     pixel2346  \\\n",
       "count  ...  10015.00000  10015.000000  10015.000000  10015.000000   \n",
       "mean   ...    184.68657    138.416875    144.061508    178.656216   \n",
       "std    ...     47.02376     38.393007     41.322365     53.534096   \n",
       "min    ...      0.00000      0.000000      0.000000      0.000000   \n",
       "25%    ...    166.00000    123.000000    126.000000    160.000000   \n",
       "50%    ...    197.00000    144.000000    149.000000    195.000000   \n",
       "75%    ...    216.00000    161.000000    169.000000    214.000000   \n",
       "max    ...    255.00000    254.000000    254.000000    254.000000   \n",
       "\n",
       "          pixel2347     pixel2348     pixel2349     pixel2350     pixel2351  \\\n",
       "count  10015.000000  10015.000000  10015.000000  10015.000000  10015.000000   \n",
       "mean     133.217474    138.752172    172.307239    127.871193    133.144483   \n",
       "std       42.910723     45.642257     58.533979     46.453818     49.060028   \n",
       "min        0.000000      0.000000      0.000000      0.000000      0.000000   \n",
       "25%      118.000000    120.000000    153.000000    113.000000    115.000000   \n",
       "50%      141.000000    146.000000    191.000000    138.000000    142.000000   \n",
       "75%      159.000000    166.000000    212.000000    156.000000    163.000000   \n",
       "max      252.000000    255.000000    254.000000    249.000000    254.000000   \n",
       "\n",
       "              label  \n",
       "count  10015.000000  \n",
       "mean       3.720919  \n",
       "std        1.347499  \n",
       "min        0.000000  \n",
       "25%        4.000000  \n",
       "50%        4.000000  \n",
       "75%        4.000000  \n",
       "max        6.000000  \n",
       "\n",
       "[8 rows x 2353 columns]"
      ]
     },
     "execution_count": 4,
     "metadata": {},
     "output_type": "execute_result"
    }
   ],
   "source": [
    "# Look at summary statistics of our dataset\n",
    "df.describe()"
   ]
  },
  {
   "cell_type": "markdown",
   "id": "5074776f-5d2f-40fe-ab2a-511fb20bb2d4",
   "metadata": {},
   "source": [
    "### 1) Data Preprocessing\n",
    "\n",
    "**Instructions**: Do any appropriate preprocessing needed for the dataset using the 28 x 28 RGB image csv file from the Breast Cancer Dataset.\n",
    "\n",
    "**Notes**: \n",
    "* Remember to use the check sheet list to do any appropriate outlier detection/removal, categorical data transformation to numerical data, scaling or normalization, etc.\n",
    "* Be sure to justify all of your modifications in a markdown cell or as comments in code.\n",
    "* Modifications without written justification will result in points lost."
   ]
  },
  {
   "cell_type": "code",
   "execution_count": 5,
   "id": "fd5c35b4-df2d-4d2a-b328-e6874ed49df5",
   "metadata": {},
   "outputs": [],
   "source": [
    "# Create our X & y dependent & target variable data sets\n",
    "y = df.label\n",
    "X = df.drop(columns=['label']).to_numpy()"
   ]
  },
  {
   "cell_type": "code",
   "execution_count": 6,
   "id": "1f309709-00ec-42ce-a7ca-7beb8fe93a1e",
   "metadata": {},
   "outputs": [],
   "source": [
    "# Scale our X data by dividing each element by the max value (255)\n",
    "#\n",
    "# Justification: While not strictly required for kNN, it's a good practice to scale our data\n",
    "# for other models we'll be using in the future. Scaling our data using the max value will not\n",
    "# negatively impact our kNN model.\n",
    "X = X / 255"
   ]
  },
  {
   "cell_type": "code",
   "execution_count": 7,
   "id": "8582ee27-f9ae-4108-8fd9-fbb5a2113315",
   "metadata": {},
   "outputs": [
    {
     "name": "stdout",
     "output_type": "stream",
     "text": [
      "[0.75294118 0.6        0.75686275 ... 0.7254902  0.60392157 0.69411765]\n"
     ]
    }
   ],
   "source": [
    "# Ensure our first X value looks reasonable post-scaling\n",
    "print(X[0])"
   ]
  },
  {
   "cell_type": "code",
   "execution_count": 8,
   "id": "b8c1207f-41b2-4fe5-8059-a67feb6a865d",
   "metadata": {},
   "outputs": [],
   "source": [
    "# Split our data into training / testing data sets; use a common random_state to get repeatable results\n",
    "#\n",
    "# Justification: Our training data set will be used for training our kNN model,\n",
    "# the separate testing set will be used to evaluate how well our model performs.\n",
    "X_train, X_test, y_train, y_test = train_test_split(X, y, test_size=0.2, random_state=42)"
   ]
  },
  {
   "cell_type": "code",
   "execution_count": 9,
   "id": "c3b3dd6e-b85d-48c5-8a54-3160caa95871",
   "metadata": {},
   "outputs": [
    {
     "name": "stdout",
     "output_type": "stream",
     "text": [
      "X_train: (8012, 2352)\n",
      "X_test: (2003, 2352)\n",
      "y_train: (8012,)\n",
      "y_test: (2003,)\n"
     ]
    }
   ],
   "source": [
    "# Ensure our data split correctly\n",
    "print(\"X_train: {}\".format(X_train.shape))\n",
    "print(\"X_test: {}\".format(X_test.shape))\n",
    "print(\"y_train: {}\".format(y_train.shape))\n",
    "print(\"y_test: {}\".format(y_test.shape))"
   ]
  },
  {
   "cell_type": "markdown",
   "id": "b0cad5ea-fa79-4c55-a3f3-eca739f4ad05",
   "metadata": {},
   "source": [
    "### 2) Grid Search - optimal k value\n",
    "\n",
    "**Instructions**: Use a Grid Search to find the best model with the optimal k value."
   ]
  },
  {
   "cell_type": "code",
   "execution_count": 10,
   "id": "5c3d55a1-d099-4990-9009-994528f47161",
   "metadata": {},
   "outputs": [
    {
     "data": {
      "text/html": [
       "<style>#sk-container-id-1 {color: black;}#sk-container-id-1 pre{padding: 0;}#sk-container-id-1 div.sk-toggleable {background-color: white;}#sk-container-id-1 label.sk-toggleable__label {cursor: pointer;display: block;width: 100%;margin-bottom: 0;padding: 0.3em;box-sizing: border-box;text-align: center;}#sk-container-id-1 label.sk-toggleable__label-arrow:before {content: \"▸\";float: left;margin-right: 0.25em;color: #696969;}#sk-container-id-1 label.sk-toggleable__label-arrow:hover:before {color: black;}#sk-container-id-1 div.sk-estimator:hover label.sk-toggleable__label-arrow:before {color: black;}#sk-container-id-1 div.sk-toggleable__content {max-height: 0;max-width: 0;overflow: hidden;text-align: left;background-color: #f0f8ff;}#sk-container-id-1 div.sk-toggleable__content pre {margin: 0.2em;color: black;border-radius: 0.25em;background-color: #f0f8ff;}#sk-container-id-1 input.sk-toggleable__control:checked~div.sk-toggleable__content {max-height: 200px;max-width: 100%;overflow: auto;}#sk-container-id-1 input.sk-toggleable__control:checked~label.sk-toggleable__label-arrow:before {content: \"▾\";}#sk-container-id-1 div.sk-estimator input.sk-toggleable__control:checked~label.sk-toggleable__label {background-color: #d4ebff;}#sk-container-id-1 div.sk-label input.sk-toggleable__control:checked~label.sk-toggleable__label {background-color: #d4ebff;}#sk-container-id-1 input.sk-hidden--visually {border: 0;clip: rect(1px 1px 1px 1px);clip: rect(1px, 1px, 1px, 1px);height: 1px;margin: -1px;overflow: hidden;padding: 0;position: absolute;width: 1px;}#sk-container-id-1 div.sk-estimator {font-family: monospace;background-color: #f0f8ff;border: 1px dotted black;border-radius: 0.25em;box-sizing: border-box;margin-bottom: 0.5em;}#sk-container-id-1 div.sk-estimator:hover {background-color: #d4ebff;}#sk-container-id-1 div.sk-parallel-item::after {content: \"\";width: 100%;border-bottom: 1px solid gray;flex-grow: 1;}#sk-container-id-1 div.sk-label:hover label.sk-toggleable__label {background-color: #d4ebff;}#sk-container-id-1 div.sk-serial::before {content: \"\";position: absolute;border-left: 1px solid gray;box-sizing: border-box;top: 0;bottom: 0;left: 50%;z-index: 0;}#sk-container-id-1 div.sk-serial {display: flex;flex-direction: column;align-items: center;background-color: white;padding-right: 0.2em;padding-left: 0.2em;position: relative;}#sk-container-id-1 div.sk-item {position: relative;z-index: 1;}#sk-container-id-1 div.sk-parallel {display: flex;align-items: stretch;justify-content: center;background-color: white;position: relative;}#sk-container-id-1 div.sk-item::before, #sk-container-id-1 div.sk-parallel-item::before {content: \"\";position: absolute;border-left: 1px solid gray;box-sizing: border-box;top: 0;bottom: 0;left: 50%;z-index: -1;}#sk-container-id-1 div.sk-parallel-item {display: flex;flex-direction: column;z-index: 1;position: relative;background-color: white;}#sk-container-id-1 div.sk-parallel-item:first-child::after {align-self: flex-end;width: 50%;}#sk-container-id-1 div.sk-parallel-item:last-child::after {align-self: flex-start;width: 50%;}#sk-container-id-1 div.sk-parallel-item:only-child::after {width: 0;}#sk-container-id-1 div.sk-dashed-wrapped {border: 1px dashed gray;margin: 0 0.4em 0.5em 0.4em;box-sizing: border-box;padding-bottom: 0.4em;background-color: white;}#sk-container-id-1 div.sk-label label {font-family: monospace;font-weight: bold;display: inline-block;line-height: 1.2em;}#sk-container-id-1 div.sk-label-container {text-align: center;}#sk-container-id-1 div.sk-container {/* jupyter's `normalize.less` sets `[hidden] { display: none; }` but bootstrap.min.css set `[hidden] { display: none !important; }` so we also need the `!important` here to be able to override the default hidden behavior on the sphinx rendered scikit-learn.org. See: https://github.com/scikit-learn/scikit-learn/issues/21755 */display: inline-block !important;position: relative;}#sk-container-id-1 div.sk-text-repr-fallback {display: none;}</style><div id=\"sk-container-id-1\" class=\"sk-top-container\"><div class=\"sk-text-repr-fallback\"><pre>GridSearchCV(estimator=KNeighborsClassifier(),\n",
       "             param_grid=[{&#x27;n_neighbors&#x27;: [1, 2, 3, 4, 5, 6, 7, 8, 9, 10, 11, 12,\n",
       "                                          13, 14, 15, 16, 17, 18, 19, 20, 21,\n",
       "                                          22, 23, 24, 25, 26, 27, 28, 29, 30, ...]}])</pre><b>In a Jupyter environment, please rerun this cell to show the HTML representation or trust the notebook. <br />On GitHub, the HTML representation is unable to render, please try loading this page with nbviewer.org.</b></div><div class=\"sk-container\" hidden><div class=\"sk-item sk-dashed-wrapped\"><div class=\"sk-label-container\"><div class=\"sk-label sk-toggleable\"><input class=\"sk-toggleable__control sk-hidden--visually\" id=\"sk-estimator-id-1\" type=\"checkbox\" ><label for=\"sk-estimator-id-1\" class=\"sk-toggleable__label sk-toggleable__label-arrow\">GridSearchCV</label><div class=\"sk-toggleable__content\"><pre>GridSearchCV(estimator=KNeighborsClassifier(),\n",
       "             param_grid=[{&#x27;n_neighbors&#x27;: [1, 2, 3, 4, 5, 6, 7, 8, 9, 10, 11, 12,\n",
       "                                          13, 14, 15, 16, 17, 18, 19, 20, 21,\n",
       "                                          22, 23, 24, 25, 26, 27, 28, 29, 30, ...]}])</pre></div></div></div><div class=\"sk-parallel\"><div class=\"sk-parallel-item\"><div class=\"sk-item\"><div class=\"sk-label-container\"><div class=\"sk-label sk-toggleable\"><input class=\"sk-toggleable__control sk-hidden--visually\" id=\"sk-estimator-id-2\" type=\"checkbox\" ><label for=\"sk-estimator-id-2\" class=\"sk-toggleable__label sk-toggleable__label-arrow\">estimator: KNeighborsClassifier</label><div class=\"sk-toggleable__content\"><pre>KNeighborsClassifier()</pre></div></div></div><div class=\"sk-serial\"><div class=\"sk-item\"><div class=\"sk-estimator sk-toggleable\"><input class=\"sk-toggleable__control sk-hidden--visually\" id=\"sk-estimator-id-3\" type=\"checkbox\" ><label for=\"sk-estimator-id-3\" class=\"sk-toggleable__label sk-toggleable__label-arrow\">KNeighborsClassifier</label><div class=\"sk-toggleable__content\"><pre>KNeighborsClassifier()</pre></div></div></div></div></div></div></div></div></div></div>"
      ],
      "text/plain": [
       "GridSearchCV(estimator=KNeighborsClassifier(),\n",
       "             param_grid=[{'n_neighbors': [1, 2, 3, 4, 5, 6, 7, 8, 9, 10, 11, 12,\n",
       "                                          13, 14, 15, 16, 17, 18, 19, 20, 21,\n",
       "                                          22, 23, 24, 25, 26, 27, 28, 29, 30, ...]}])"
      ]
     },
     "execution_count": 10,
     "metadata": {},
     "output_type": "execute_result"
    }
   ],
   "source": [
    "# Instantiate our KNN Classifier object\n",
    "knn = KNeighborsClassifier()\n",
    "\n",
    "# Choose our starting 'k' to be the square root of the number of training examples\n",
    "starting_k = math.ceil(math.sqrt(len(X_train)))\n",
    "\n",
    "# Set our search parameters for our Grid Search\n",
    "search_space = [{'n_neighbors': list(range(1, starting_k))}]\n",
    "\n",
    "# Instantiate our Grid Search object\n",
    "grid_search = GridSearchCV(knn, search_space)\n",
    "\n",
    "# Fit our model using our training data\n",
    "grid_search.fit(X_train, y_train)"
   ]
  },
  {
   "cell_type": "markdown",
   "id": "a09ddda6-aa37-4cdf-ba5a-7f62b50e10c4",
   "metadata": {},
   "source": [
    "### 3) Metrics Output\n",
    "\n",
    "**Instructions**: Using the best model with the optimal k, output all the important metrics. \n",
    "\n",
    "Note: I'm looking for accuracy, precision, recall, and F1 scores."
   ]
  },
  {
   "cell_type": "code",
   "execution_count": 11,
   "id": "e59be931-5ad0-4d08-a263-4d888478562a",
   "metadata": {},
   "outputs": [
    {
     "name": "stdout",
     "output_type": "stream",
     "text": [
      "k value: 13\n"
     ]
    }
   ],
   "source": [
    "# Look at our best model\n",
    "model = grid_search.best_estimator_\n",
    "print(\"k value: {}\".format(model.get_params()['n_neighbors']))"
   ]
  },
  {
   "cell_type": "code",
   "execution_count": 12,
   "id": "f0e9bf7c-4ab5-4c67-9757-5f6661e9ad26",
   "metadata": {},
   "outputs": [],
   "source": [
    "# Use our model to make predictions with the X training data\n",
    "y_pred = model.predict(X_train)"
   ]
  },
  {
   "cell_type": "code",
   "execution_count": 13,
   "id": "a48c9869-812a-47ba-ba8e-4fd56c91fbae",
   "metadata": {},
   "outputs": [
    {
     "name": "stdout",
     "output_type": "stream",
     "text": [
      "Accuracy: 0.7331502745881179\n",
      "Precision: 0.6577914433819488\n",
      "Recall: 0.29985802975918696\n",
      "F1 Score: 0.32804746649165273\n"
     ]
    }
   ],
   "source": [
    "# Output specific accuracy, precision, recall, & F1 metrics for our model:\n",
    "print(\"Accuracy: {}\".format(metrics.accuracy_score(y_train, y_pred)))\n",
    "print(\"Precision: {}\".format(metrics.precision_score(y_train, y_pred, average='macro')))\n",
    "print(\"Recall: {}\".format(metrics.recall_score(y_train, y_pred, average='macro')))\n",
    "print(\"F1 Score: {}\".format(metrics.f1_score(y_train, y_pred, average='macro')))"
   ]
  },
  {
   "cell_type": "code",
   "execution_count": 14,
   "id": "ad20f02b-a82b-43bb-923f-77af14656501",
   "metadata": {},
   "outputs": [
    {
     "data": {
      "image/png": "[encoded data removed]",
      "text/plain": [
       "<Figure size 640x480 with 2 Axes>"
      ]
     },
     "metadata": {},
     "output_type": "display_data"
    }
   ],
   "source": [
    "# Display our Confusion Matrix\n",
    "cm = metrics.confusion_matrix(y_train, y_pred)\n",
    "cm_display = metrics.ConfusionMatrixDisplay(cm).plot()"
   ]
  },
  {
   "cell_type": "markdown",
   "id": "166d1096-3470-4395-b536-3c2551cbfdff",
   "metadata": {},
   "source": [
    "### 4) Grid Search Metric Analysis\n",
    "\n",
    "**Instructions**: In either a Markdown cell, or as a comment in code, output the following:\n",
    "1. What value for k was chosen by the Grid Search.\n",
    "2. State what the default metric the GridSearchCV function uses for 'scoring' for classification; I'm looking for either accuracy, error-rate, sensitivity, specificity, precision, recall, F1-score, or other. *See helpful links below at the bottom of this page for assistance.*\n",
    "3. Given that this dataset is a cancer dataset, specify what you think the most important metric to use should be (out of the list above)."
   ]
  },
  {
   "cell_type": "markdown",
   "id": "af34a079-e681-473d-86d9-8f4847db9645",
   "metadata": {},
   "source": [
    "#### Responses\n",
    "1. `13` was chosen for the value of k by our Grid Search\n",
    "2. According to the documentation [here](https://scikit-learn.org/stable/modules/grid_search.html#specifying-an-objective-metric), **accuracy** is used for scoring for classification.\n",
    "3. I think that recall is the best measure for this cancer dataset, as it would meaasure how well our model predicts someone who actually has cancer as having cancer. In other words, a false negative prediction for someone who actually has cancer would be disastrous, delaying their confirmation of cancer and subsequent treatment. Putting priority on the preservation of human life, it would be a better tradeoff to have a few false positives who would likely go through a more rigorous round of testing and confirmation than it would be to let someone who actually has cancer think that they do not from an incorrect negative prediction from our model."
   ]
  },
  {
   "cell_type": "markdown",
   "id": "58555fc1-4498-4dd4-bbd7-d7084c2a46bf",
   "metadata": {},
   "source": [
    "### 5) GridSearchCV Hyper-Parameter Tuning\n",
    "\n",
    "**Instructions**: Dig into the documentation for GridSearchCV [here](https://scikit-learn.org/stable/modules/generated/sklearn.model_selection.GridSearchCV.html). \n",
    "\n",
    "Now, rerun the GridSearchCV function using the more appropriate metric as the 'scoring' hyper-parameter that you specified in problem 4.3."
   ]
  },
  {
   "cell_type": "code",
   "execution_count": 15,
   "id": "94a52a64-7c8a-4207-b8af-b24860523016",
   "metadata": {},
   "outputs": [
    {
     "data": {
      "text/html": [
       "<style>#sk-container-id-2 {color: black;}#sk-container-id-2 pre{padding: 0;}#sk-container-id-2 div.sk-toggleable {background-color: white;}#sk-container-id-2 label.sk-toggleable__label {cursor: pointer;display: block;width: 100%;margin-bottom: 0;padding: 0.3em;box-sizing: border-box;text-align: center;}#sk-container-id-2 label.sk-toggleable__label-arrow:before {content: \"▸\";float: left;margin-right: 0.25em;color: #696969;}#sk-container-id-2 label.sk-toggleable__label-arrow:hover:before {color: black;}#sk-container-id-2 div.sk-estimator:hover label.sk-toggleable__label-arrow:before {color: black;}#sk-container-id-2 div.sk-toggleable__content {max-height: 0;max-width: 0;overflow: hidden;text-align: left;background-color: #f0f8ff;}#sk-container-id-2 div.sk-toggleable__content pre {margin: 0.2em;color: black;border-radius: 0.25em;background-color: #f0f8ff;}#sk-container-id-2 input.sk-toggleable__control:checked~div.sk-toggleable__content {max-height: 200px;max-width: 100%;overflow: auto;}#sk-container-id-2 input.sk-toggleable__control:checked~label.sk-toggleable__label-arrow:before {content: \"▾\";}#sk-container-id-2 div.sk-estimator input.sk-toggleable__control:checked~label.sk-toggleable__label {background-color: #d4ebff;}#sk-container-id-2 div.sk-label input.sk-toggleable__control:checked~label.sk-toggleable__label {background-color: #d4ebff;}#sk-container-id-2 input.sk-hidden--visually {border: 0;clip: rect(1px 1px 1px 1px);clip: rect(1px, 1px, 1px, 1px);height: 1px;margin: -1px;overflow: hidden;padding: 0;position: absolute;width: 1px;}#sk-container-id-2 div.sk-estimator {font-family: monospace;background-color: #f0f8ff;border: 1px dotted black;border-radius: 0.25em;box-sizing: border-box;margin-bottom: 0.5em;}#sk-container-id-2 div.sk-estimator:hover {background-color: #d4ebff;}#sk-container-id-2 div.sk-parallel-item::after {content: \"\";width: 100%;border-bottom: 1px solid gray;flex-grow: 1;}#sk-container-id-2 div.sk-label:hover label.sk-toggleable__label {background-color: #d4ebff;}#sk-container-id-2 div.sk-serial::before {content: \"\";position: absolute;border-left: 1px solid gray;box-sizing: border-box;top: 0;bottom: 0;left: 50%;z-index: 0;}#sk-container-id-2 div.sk-serial {display: flex;flex-direction: column;align-items: center;background-color: white;padding-right: 0.2em;padding-left: 0.2em;position: relative;}#sk-container-id-2 div.sk-item {position: relative;z-index: 1;}#sk-container-id-2 div.sk-parallel {display: flex;align-items: stretch;justify-content: center;background-color: white;position: relative;}#sk-container-id-2 div.sk-item::before, #sk-container-id-2 div.sk-parallel-item::before {content: \"\";position: absolute;border-left: 1px solid gray;box-sizing: border-box;top: 0;bottom: 0;left: 50%;z-index: -1;}#sk-container-id-2 div.sk-parallel-item {display: flex;flex-direction: column;z-index: 1;position: relative;background-color: white;}#sk-container-id-2 div.sk-parallel-item:first-child::after {align-self: flex-end;width: 50%;}#sk-container-id-2 div.sk-parallel-item:last-child::after {align-self: flex-start;width: 50%;}#sk-container-id-2 div.sk-parallel-item:only-child::after {width: 0;}#sk-container-id-2 div.sk-dashed-wrapped {border: 1px dashed gray;margin: 0 0.4em 0.5em 0.4em;box-sizing: border-box;padding-bottom: 0.4em;background-color: white;}#sk-container-id-2 div.sk-label label {font-family: monospace;font-weight: bold;display: inline-block;line-height: 1.2em;}#sk-container-id-2 div.sk-label-container {text-align: center;}#sk-container-id-2 div.sk-container {/* jupyter's `normalize.less` sets `[hidden] { display: none; }` but bootstrap.min.css set `[hidden] { display: none !important; }` so we also need the `!important` here to be able to override the default hidden behavior on the sphinx rendered scikit-learn.org. See: https://github.com/scikit-learn/scikit-learn/issues/21755 */display: inline-block !important;position: relative;}#sk-container-id-2 div.sk-text-repr-fallback {display: none;}</style><div id=\"sk-container-id-2\" class=\"sk-top-container\"><div class=\"sk-text-repr-fallback\"><pre>GridSearchCV(estimator=KNeighborsClassifier(),\n",
       "             param_grid=[{&#x27;n_neighbors&#x27;: [1, 2, 3, 4, 5, 6, 7, 8, 9, 10, 11, 12,\n",
       "                                          13, 14, 15, 16, 17, 18, 19, 20, 21,\n",
       "                                          22, 23, 24, 25, 26, 27, 28, 29, 30, ...]}],\n",
       "             scoring=&#x27;recall&#x27;)</pre><b>In a Jupyter environment, please rerun this cell to show the HTML representation or trust the notebook. <br />On GitHub, the HTML representation is unable to render, please try loading this page with nbviewer.org.</b></div><div class=\"sk-container\" hidden><div class=\"sk-item sk-dashed-wrapped\"><div class=\"sk-label-container\"><div class=\"sk-label sk-toggleable\"><input class=\"sk-toggleable__control sk-hidden--visually\" id=\"sk-estimator-id-4\" type=\"checkbox\" ><label for=\"sk-estimator-id-4\" class=\"sk-toggleable__label sk-toggleable__label-arrow\">GridSearchCV</label><div class=\"sk-toggleable__content\"><pre>GridSearchCV(estimator=KNeighborsClassifier(),\n",
       "             param_grid=[{&#x27;n_neighbors&#x27;: [1, 2, 3, 4, 5, 6, 7, 8, 9, 10, 11, 12,\n",
       "                                          13, 14, 15, 16, 17, 18, 19, 20, 21,\n",
       "                                          22, 23, 24, 25, 26, 27, 28, 29, 30, ...]}],\n",
       "             scoring=&#x27;recall&#x27;)</pre></div></div></div><div class=\"sk-parallel\"><div class=\"sk-parallel-item\"><div class=\"sk-item\"><div class=\"sk-label-container\"><div class=\"sk-label sk-toggleable\"><input class=\"sk-toggleable__control sk-hidden--visually\" id=\"sk-estimator-id-5\" type=\"checkbox\" ><label for=\"sk-estimator-id-5\" class=\"sk-toggleable__label sk-toggleable__label-arrow\">estimator: KNeighborsClassifier</label><div class=\"sk-toggleable__content\"><pre>KNeighborsClassifier()</pre></div></div></div><div class=\"sk-serial\"><div class=\"sk-item\"><div class=\"sk-estimator sk-toggleable\"><input class=\"sk-toggleable__control sk-hidden--visually\" id=\"sk-estimator-id-6\" type=\"checkbox\" ><label for=\"sk-estimator-id-6\" class=\"sk-toggleable__label sk-toggleable__label-arrow\">KNeighborsClassifier</label><div class=\"sk-toggleable__content\"><pre>KNeighborsClassifier()</pre></div></div></div></div></div></div></div></div></div></div>"
      ],
      "text/plain": [
       "GridSearchCV(estimator=KNeighborsClassifier(),\n",
       "             param_grid=[{'n_neighbors': [1, 2, 3, 4, 5, 6, 7, 8, 9, 10, 11, 12,\n",
       "                                          13, 14, 15, 16, 17, 18, 19, 20, 21,\n",
       "                                          22, 23, 24, 25, 26, 27, 28, 29, 30, ...]}],\n",
       "             scoring='recall')"
      ]
     },
     "execution_count": 15,
     "metadata": {},
     "output_type": "execute_result"
    }
   ],
   "source": [
    "# Note: Because the Grid Search takes such a long time to run, \n",
    "# I'm creating a new set of variables for this run so as not to overwrite the previous modeling from section 3\n",
    "#\n",
    "# Instantiate our refined KNN Classifier object\n",
    "knn_refined = KNeighborsClassifier()\n",
    "\n",
    "# Choose our starting 'k' to be the square root of the number of training examples\n",
    "starting_k = math.ceil(math.sqrt(len(X_train)))\n",
    "\n",
    "# Set our search parameters for our Grid Search\n",
    "search_space = [{'n_neighbors': list(range(1, starting_k))}]\n",
    "\n",
    "# Instantiate our refined Grid Search object\n",
    "grid_search_refined = GridSearchCV(knn_refined, search_space, scoring='recall')\n",
    "\n",
    "# Fit our model using our training data\n",
    "grid_search_refined.fit(X_train, y_train)"
   ]
  },
  {
   "cell_type": "markdown",
   "id": "a59d6c06-aea7-42b0-b3fa-026e9385eb0a",
   "metadata": {},
   "source": [
    "### 6) New k Value & Metrics\n",
    "\n",
    "**Instructions**: In a Markdown cell or as comments in code, output the new value for k and specify all the important metrics.\n",
    "\n",
    "Note: I'm looking for accuracy, precision, recall, and F1 scores for the new fit."
   ]
  },
  {
   "cell_type": "code",
   "execution_count": 16,
   "id": "146d5834-574e-4864-97a5-a992e0b4b22c",
   "metadata": {},
   "outputs": [
    {
     "name": "stdout",
     "output_type": "stream",
     "text": [
      "k value: 1\n"
     ]
    }
   ],
   "source": [
    "# Look at our new best model\n",
    "model_refined = grid_search_refined.best_estimator_\n",
    "print(\"k value: {}\".format(model_refined.get_params()['n_neighbors']))"
   ]
  },
  {
   "cell_type": "code",
   "execution_count": 17,
   "id": "cc7b10c0-2c58-487c-89e2-f472f8353b14",
   "metadata": {},
   "outputs": [],
   "source": [
    "# Use our refined model to make predictions with the X training data\n",
    "y_pred_refined = model_refined.predict(X_train)"
   ]
  },
  {
   "cell_type": "code",
   "execution_count": 18,
   "id": "9bf6342a-b5cc-47f0-a2aa-89d65063253f",
   "metadata": {},
   "outputs": [
    {
     "name": "stdout",
     "output_type": "stream",
     "text": [
      "Accuracy: 1.0\n",
      "Precision: 1.0\n",
      "Recall: 1.0\n",
      "F1 Score: 1.0\n"
     ]
    }
   ],
   "source": [
    "# Output specific accuracy, precision, recall, & F1 metrics for our model:\n",
    "print(\"Accuracy: {}\".format(metrics.accuracy_score(y_train, y_pred_refined)))\n",
    "print(\"Precision: {}\".format(metrics.precision_score(y_train, y_pred_refined, average='macro')))\n",
    "print(\"Recall: {}\".format(metrics.recall_score(y_train, y_pred_refined, average='macro')))\n",
    "print(\"F1 Score: {}\".format(metrics.f1_score(y_train, y_pred_refined, average='macro')))"
   ]
  },
  {
   "cell_type": "code",
   "execution_count": 19,
   "id": "47acdd7f-19d7-4860-b493-ca6f10aacf9a",
   "metadata": {},
   "outputs": [
    {
     "data": {
      "image/png": "[encoded data removed]",
      "text/plain": [
       "<Figure size 640x480 with 2 Axes>"
      ]
     },
     "metadata": {},
     "output_type": "display_data"
    }
   ],
   "source": [
    "# Display our Confusion Matrix for our refined model\n",
    "cm = metrics.confusion_matrix(y_train, y_pred_refined)\n",
    "cm_display = metrics.ConfusionMatrixDisplay(cm).plot()"
   ]
  },
  {
   "cell_type": "markdown",
   "id": "8ef1f703-3003-48e1-86ad-e9c81aa81f12",
   "metadata": {},
   "source": [
    "### 7) Final Model Analysis\n",
    "\n",
    "**Instructions**: In a markdown cell or as a comment in code, discuss which of the two models you prefer and why."
   ]
  },
  {
   "cell_type": "markdown",
   "id": "6a350da3-b497-4e09-a9e1-ac543fd501ee",
   "metadata": {},
   "source": [
    "While our second model was well-intended to optimize for **recall**, it resulted in a model with a value of k=1 and based on our summary statistics is way overfitted to the data.\n",
    "\n",
    "Because of that, the first model that optimizes for **accuracy** is the one I prefer as it's more generalizable and useful.  \n",
    "\n",
    "I think a good third option would be to evaluate optimizing for other metrics and/or perhaps increasing the minimum k value in our `search_space` variable for the `GridSearchCV()`. Right now, the minimum value is **1**, but perhaps increasing that could make our second model optimized for recall a bit more generalizable."
   ]
  }
 ],
 "metadata": {
  "kernelspec": {
   "display_name": "Python 3 (ipykernel)",
   "language": "python",
   "name": "python3"
  },
  "language_info": {
   "codemirror_mode": {
    "name": "ipython",
    "version": 3
   },
   "file_extension": ".py",
   "mimetype": "text/x-python",
   "name": "python",
   "nbconvert_exporter": "python",
   "pygments_lexer": "ipython3",
   "version": "3.11.6"
  }
 },
 "nbformat": 4,
 "nbformat_minor": 5
}
